{
 "cells": [
  {
   "cell_type": "markdown",
   "id": "338a6267",
   "metadata": {},
   "source": [
    "# Part IV: Analysis & Visualisation"
   ]
  },
  {
   "cell_type": "markdown",
   "id": "2896136e",
   "metadata": {},
   "source": [
    "## Load Required Packages"
   ]
  },
  {
   "cell_type": "code",
   "execution_count": 1,
   "id": "3050234e",
   "metadata": {},
   "outputs": [],
   "source": [
    "import pandas as pd\n",
    "import json\n",
    "from pandas import json_normalize\n",
    "import regex\n",
    "import re\n",
    "import numpy as np\n",
    "import datetime as dt\n",
    "\n",
    "# Packages for visualizing\n",
    "import matplotlib.pyplot as plt\n",
    "import seaborn as sns\n",
    "import geopandas as gpd\n",
    "\n",
    "import scipy.stats as stats"
   ]
  },
  {
   "cell_type": "markdown",
   "id": "bc082460",
   "metadata": {},
   "source": [
    "## Load Data"
   ]
  },
  {
   "cell_type": "code",
   "execution_count": 2,
   "id": "bb6dd683",
   "metadata": {},
   "outputs": [],
   "source": [
    "labelled_posts = pd.read_excel(\"labs_labelled_posts_new.xlsx\")"
   ]
  },
  {
   "cell_type": "code",
   "execution_count": 3,
   "id": "b8470caa",
   "metadata": {},
   "outputs": [],
   "source": [
    "model_labelled_posts = pd.read_csv(\"model_labelled_posts.csv\")"
   ]
  },
  {
   "cell_type": "code",
   "execution_count": 4,
   "id": "95bef2c9",
   "metadata": {},
   "outputs": [],
   "source": [
    "labelled_comments = pd.read_excel(\"labs_labelled_comments.xlsx\")"
   ]
  },
  {
   "cell_type": "code",
   "execution_count": 5,
   "id": "eeec028f",
   "metadata": {},
   "outputs": [],
   "source": [
    "model_labelled_comments = pd.read_csv(\"model_labelled_comments.csv\")"
   ]
  },
  {
   "cell_type": "markdown",
   "id": "2a33d72f",
   "metadata": {},
   "source": [
    "# Create the Data Frames for Analysis "
   ]
  },
  {
   "cell_type": "markdown",
   "id": "8875dfe9",
   "metadata": {},
   "source": [
    "## Posts:"
   ]
  },
  {
   "cell_type": "markdown",
   "id": "6e0366aa",
   "metadata": {},
   "source": [
    "#### Manually Labelled Posts:"
   ]
  },
  {
   "cell_type": "code",
   "execution_count": 6,
   "id": "d34062d7",
   "metadata": {},
   "outputs": [
    {
     "data": {
      "text/html": [
       "<div>\n",
       "<style scoped>\n",
       "    .dataframe tbody tr th:only-of-type {\n",
       "        vertical-align: middle;\n",
       "    }\n",
       "\n",
       "    .dataframe tbody tr th {\n",
       "        vertical-align: top;\n",
       "    }\n",
       "\n",
       "    .dataframe thead th {\n",
       "        text-align: right;\n",
       "    }\n",
       "</style>\n",
       "<table border=\"1\" class=\"dataframe\">\n",
       "  <thead>\n",
       "    <tr style=\"text-align: right;\">\n",
       "      <th></th>\n",
       "      <th>Unnamed: 0</th>\n",
       "      <th>label_threat</th>\n",
       "      <th>label_vict</th>\n",
       "      <th>moral_label</th>\n",
       "      <th>post_id</th>\n",
       "      <th>title</th>\n",
       "      <th>date</th>\n",
       "    </tr>\n",
       "  </thead>\n",
       "  <tbody>\n",
       "    <tr>\n",
       "      <th>0</th>\n",
       "      <td>5153</td>\n",
       "      <td>0</td>\n",
       "      <td>1</td>\n",
       "      <td>1</td>\n",
       "      <td>7lsb6z</td>\n",
       "      <td>Nebraska motel managers plead guilty to enslav...</td>\n",
       "      <td>2017-12-24</td>\n",
       "    </tr>\n",
       "    <tr>\n",
       "      <th>1</th>\n",
       "      <td>3023</td>\n",
       "      <td>0</td>\n",
       "      <td>0</td>\n",
       "      <td>0</td>\n",
       "      <td>5unes0</td>\n",
       "      <td>AP Exclusive: DHS weighed Nat Guard for immigr...</td>\n",
       "      <td>2017-02-17</td>\n",
       "    </tr>\n",
       "    <tr>\n",
       "      <th>2</th>\n",
       "      <td>6797</td>\n",
       "      <td>1</td>\n",
       "      <td>0</td>\n",
       "      <td>1</td>\n",
       "      <td>8ve0wu</td>\n",
       "      <td>Illegal immigrant arrested for starting wildfi...</td>\n",
       "      <td>2018-07-02</td>\n",
       "    </tr>\n",
       "    <tr>\n",
       "      <th>3</th>\n",
       "      <td>9529</td>\n",
       "      <td>0</td>\n",
       "      <td>1</td>\n",
       "      <td>1</td>\n",
       "      <td>evzc7o</td>\n",
       "      <td>Recruiter for ICE’s fake university sentenced ...</td>\n",
       "      <td>2020-01-30</td>\n",
       "    </tr>\n",
       "    <tr>\n",
       "      <th>4</th>\n",
       "      <td>7907</td>\n",
       "      <td>1</td>\n",
       "      <td>0</td>\n",
       "      <td>1</td>\n",
       "      <td>an5m4t</td>\n",
       "      <td>Honda Jet guilty of not hiring immigrants with...</td>\n",
       "      <td>2019-02-04</td>\n",
       "    </tr>\n",
       "  </tbody>\n",
       "</table>\n",
       "</div>"
      ],
      "text/plain": [
       "   Unnamed: 0  label_threat  label_vict  moral_label post_id  \\\n",
       "0        5153             0           1            1  7lsb6z   \n",
       "1        3023             0           0            0  5unes0   \n",
       "2        6797             1           0            1  8ve0wu   \n",
       "3        9529             0           1            1  evzc7o   \n",
       "4        7907             1           0            1  an5m4t   \n",
       "\n",
       "                                               title        date  \n",
       "0  Nebraska motel managers plead guilty to enslav...  2017-12-24  \n",
       "1  AP Exclusive: DHS weighed Nat Guard for immigr...  2017-02-17  \n",
       "2  Illegal immigrant arrested for starting wildfi...  2018-07-02  \n",
       "3  Recruiter for ICE’s fake university sentenced ...  2020-01-30  \n",
       "4  Honda Jet guilty of not hiring immigrants with...  2019-02-04  "
      ]
     },
     "execution_count": 6,
     "metadata": {},
     "output_type": "execute_result"
    }
   ],
   "source": [
    "# Examine labelled posts\n",
    "labelled_posts.head()"
   ]
  },
  {
   "cell_type": "code",
   "execution_count": 7,
   "id": "a14939e0",
   "metadata": {},
   "outputs": [],
   "source": [
    "# Remove columns that are not needed (Unnamed:0 are the old index numbers, however, as we have post_id, \n",
    "# these are not needed)\n",
    "labelled_posts = labelled_posts.drop(columns = [\"Unnamed: 0\", \"label_threat\", \"label_vict\"])"
   ]
  },
  {
   "cell_type": "code",
   "execution_count": 8,
   "id": "300dada3",
   "metadata": {},
   "outputs": [],
   "source": [
    "# Rearrange df columns for appending to classifier labelled posts\n",
    "newcolumnorder = [\"post_id\", \"title\", \"date\", \"moral_label\"]\n",
    "labelled_posts = labelled_posts[newcolumnorder]"
   ]
  },
  {
   "cell_type": "code",
   "execution_count": 9,
   "id": "06967127",
   "metadata": {},
   "outputs": [
    {
     "data": {
      "text/html": [
       "<div>\n",
       "<style scoped>\n",
       "    .dataframe tbody tr th:only-of-type {\n",
       "        vertical-align: middle;\n",
       "    }\n",
       "\n",
       "    .dataframe tbody tr th {\n",
       "        vertical-align: top;\n",
       "    }\n",
       "\n",
       "    .dataframe thead th {\n",
       "        text-align: right;\n",
       "    }\n",
       "</style>\n",
       "<table border=\"1\" class=\"dataframe\">\n",
       "  <thead>\n",
       "    <tr style=\"text-align: right;\">\n",
       "      <th></th>\n",
       "      <th>post_id</th>\n",
       "      <th>title</th>\n",
       "      <th>date</th>\n",
       "      <th>moral_label</th>\n",
       "    </tr>\n",
       "  </thead>\n",
       "  <tbody>\n",
       "    <tr>\n",
       "      <th>0</th>\n",
       "      <td>7lsb6z</td>\n",
       "      <td>Nebraska motel managers plead guilty to enslav...</td>\n",
       "      <td>2017-12-24</td>\n",
       "      <td>1</td>\n",
       "    </tr>\n",
       "    <tr>\n",
       "      <th>1</th>\n",
       "      <td>5unes0</td>\n",
       "      <td>AP Exclusive: DHS weighed Nat Guard for immigr...</td>\n",
       "      <td>2017-02-17</td>\n",
       "      <td>0</td>\n",
       "    </tr>\n",
       "    <tr>\n",
       "      <th>2</th>\n",
       "      <td>8ve0wu</td>\n",
       "      <td>Illegal immigrant arrested for starting wildfi...</td>\n",
       "      <td>2018-07-02</td>\n",
       "      <td>1</td>\n",
       "    </tr>\n",
       "    <tr>\n",
       "      <th>3</th>\n",
       "      <td>evzc7o</td>\n",
       "      <td>Recruiter for ICE’s fake university sentenced ...</td>\n",
       "      <td>2020-01-30</td>\n",
       "      <td>1</td>\n",
       "    </tr>\n",
       "    <tr>\n",
       "      <th>4</th>\n",
       "      <td>an5m4t</td>\n",
       "      <td>Honda Jet guilty of not hiring immigrants with...</td>\n",
       "      <td>2019-02-04</td>\n",
       "      <td>1</td>\n",
       "    </tr>\n",
       "  </tbody>\n",
       "</table>\n",
       "</div>"
      ],
      "text/plain": [
       "  post_id                                              title        date  \\\n",
       "0  7lsb6z  Nebraska motel managers plead guilty to enslav...  2017-12-24   \n",
       "1  5unes0  AP Exclusive: DHS weighed Nat Guard for immigr...  2017-02-17   \n",
       "2  8ve0wu  Illegal immigrant arrested for starting wildfi...  2018-07-02   \n",
       "3  evzc7o  Recruiter for ICE’s fake university sentenced ...  2020-01-30   \n",
       "4  an5m4t  Honda Jet guilty of not hiring immigrants with...  2019-02-04   \n",
       "\n",
       "   moral_label  \n",
       "0            1  \n",
       "1            0  \n",
       "2            1  \n",
       "3            1  \n",
       "4            1  "
      ]
     },
     "execution_count": 9,
     "metadata": {},
     "output_type": "execute_result"
    }
   ],
   "source": [
    "# Examine final labelled table\n",
    "labelled_posts.head()"
   ]
  },
  {
   "cell_type": "markdown",
   "id": "60ef1b75",
   "metadata": {},
   "source": [
    "#### Classifier Labelled Posts:"
   ]
  },
  {
   "cell_type": "code",
   "execution_count": 10,
   "id": "f3b72ccd",
   "metadata": {},
   "outputs": [
    {
     "data": {
      "text/html": [
       "<div>\n",
       "<style scoped>\n",
       "    .dataframe tbody tr th:only-of-type {\n",
       "        vertical-align: middle;\n",
       "    }\n",
       "\n",
       "    .dataframe tbody tr th {\n",
       "        vertical-align: top;\n",
       "    }\n",
       "\n",
       "    .dataframe thead th {\n",
       "        text-align: right;\n",
       "    }\n",
       "</style>\n",
       "<table border=\"1\" class=\"dataframe\">\n",
       "  <thead>\n",
       "    <tr style=\"text-align: right;\">\n",
       "      <th></th>\n",
       "      <th>Unnamed: 0.1</th>\n",
       "      <th>Unnamed: 0</th>\n",
       "      <th>post_id</th>\n",
       "      <th>title</th>\n",
       "      <th>date</th>\n",
       "      <th>moral_labels</th>\n",
       "    </tr>\n",
       "  </thead>\n",
       "  <tbody>\n",
       "    <tr>\n",
       "      <th>0</th>\n",
       "      <td>0</td>\n",
       "      <td>6807</td>\n",
       "      <td>8vjh0c</td>\n",
       "      <td>Alabama man arrested after shouting 'womp womp...</td>\n",
       "      <td>2018-07-02</td>\n",
       "      <td>1</td>\n",
       "    </tr>\n",
       "    <tr>\n",
       "      <th>1</th>\n",
       "      <td>1</td>\n",
       "      <td>10965</td>\n",
       "      <td>nznzfc</td>\n",
       "      <td>U.S. to expand work permits for immigrants who...</td>\n",
       "      <td>2021-06-14</td>\n",
       "      <td>1</td>\n",
       "    </tr>\n",
       "    <tr>\n",
       "      <th>2</th>\n",
       "      <td>2</td>\n",
       "      <td>2832</td>\n",
       "      <td>5tavj7</td>\n",
       "      <td>Undocumented Immigrants Arrested Across U.S., ...</td>\n",
       "      <td>2017-02-11</td>\n",
       "      <td>0</td>\n",
       "    </tr>\n",
       "    <tr>\n",
       "      <th>3</th>\n",
       "      <td>3</td>\n",
       "      <td>5587</td>\n",
       "      <td>7vlzmh</td>\n",
       "      <td>Best Immigration Consultant in Melbourne</td>\n",
       "      <td>2018-02-06</td>\n",
       "      <td>0</td>\n",
       "    </tr>\n",
       "    <tr>\n",
       "      <th>4</th>\n",
       "      <td>4</td>\n",
       "      <td>5413</td>\n",
       "      <td>7qyig9</td>\n",
       "      <td>Don Lemon Dumbfounded By Jeff Session's Commen...</td>\n",
       "      <td>2018-01-17</td>\n",
       "      <td>0</td>\n",
       "    </tr>\n",
       "  </tbody>\n",
       "</table>\n",
       "</div>"
      ],
      "text/plain": [
       "   Unnamed: 0.1  Unnamed: 0 post_id  \\\n",
       "0             0        6807  8vjh0c   \n",
       "1             1       10965  nznzfc   \n",
       "2             2        2832  5tavj7   \n",
       "3             3        5587  7vlzmh   \n",
       "4             4        5413  7qyig9   \n",
       "\n",
       "                                               title        date  moral_labels  \n",
       "0  Alabama man arrested after shouting 'womp womp...  2018-07-02             1  \n",
       "1  U.S. to expand work permits for immigrants who...  2021-06-14             1  \n",
       "2  Undocumented Immigrants Arrested Across U.S., ...  2017-02-11             0  \n",
       "3           Best Immigration Consultant in Melbourne  2018-02-06             0  \n",
       "4  Don Lemon Dumbfounded By Jeff Session's Commen...  2018-01-17             0  "
      ]
     },
     "execution_count": 10,
     "metadata": {},
     "output_type": "execute_result"
    }
   ],
   "source": [
    "# Examine classifier labelled posts \n",
    "model_labelled_posts.head()"
   ]
  },
  {
   "cell_type": "code",
   "execution_count": 11,
   "id": "0839bd42",
   "metadata": {},
   "outputs": [],
   "source": [
    "# Remove columns that are not needed and rename moral_labels to moral_label for appending the data\n",
    "model_labelled_posts = model_labelled_posts.drop(\n",
    "    columns = [\"Unnamed: 0.1\", \"Unnamed: 0\"]).rename(\n",
    "    columns = {\"moral_labels\":\"moral_label\"}) "
   ]
  },
  {
   "cell_type": "code",
   "execution_count": 12,
   "id": "6e3ad6af",
   "metadata": {},
   "outputs": [
    {
     "data": {
      "text/html": [
       "<div>\n",
       "<style scoped>\n",
       "    .dataframe tbody tr th:only-of-type {\n",
       "        vertical-align: middle;\n",
       "    }\n",
       "\n",
       "    .dataframe tbody tr th {\n",
       "        vertical-align: top;\n",
       "    }\n",
       "\n",
       "    .dataframe thead th {\n",
       "        text-align: right;\n",
       "    }\n",
       "</style>\n",
       "<table border=\"1\" class=\"dataframe\">\n",
       "  <thead>\n",
       "    <tr style=\"text-align: right;\">\n",
       "      <th></th>\n",
       "      <th>post_id</th>\n",
       "      <th>title</th>\n",
       "      <th>date</th>\n",
       "      <th>moral_label</th>\n",
       "    </tr>\n",
       "  </thead>\n",
       "  <tbody>\n",
       "    <tr>\n",
       "      <th>0</th>\n",
       "      <td>8vjh0c</td>\n",
       "      <td>Alabama man arrested after shouting 'womp womp...</td>\n",
       "      <td>2018-07-02</td>\n",
       "      <td>1</td>\n",
       "    </tr>\n",
       "    <tr>\n",
       "      <th>1</th>\n",
       "      <td>nznzfc</td>\n",
       "      <td>U.S. to expand work permits for immigrants who...</td>\n",
       "      <td>2021-06-14</td>\n",
       "      <td>1</td>\n",
       "    </tr>\n",
       "    <tr>\n",
       "      <th>2</th>\n",
       "      <td>5tavj7</td>\n",
       "      <td>Undocumented Immigrants Arrested Across U.S., ...</td>\n",
       "      <td>2017-02-11</td>\n",
       "      <td>0</td>\n",
       "    </tr>\n",
       "    <tr>\n",
       "      <th>3</th>\n",
       "      <td>7vlzmh</td>\n",
       "      <td>Best Immigration Consultant in Melbourne</td>\n",
       "      <td>2018-02-06</td>\n",
       "      <td>0</td>\n",
       "    </tr>\n",
       "    <tr>\n",
       "      <th>4</th>\n",
       "      <td>7qyig9</td>\n",
       "      <td>Don Lemon Dumbfounded By Jeff Session's Commen...</td>\n",
       "      <td>2018-01-17</td>\n",
       "      <td>0</td>\n",
       "    </tr>\n",
       "  </tbody>\n",
       "</table>\n",
       "</div>"
      ],
      "text/plain": [
       "  post_id                                              title        date  \\\n",
       "0  8vjh0c  Alabama man arrested after shouting 'womp womp...  2018-07-02   \n",
       "1  nznzfc  U.S. to expand work permits for immigrants who...  2021-06-14   \n",
       "2  5tavj7  Undocumented Immigrants Arrested Across U.S., ...  2017-02-11   \n",
       "3  7vlzmh           Best Immigration Consultant in Melbourne  2018-02-06   \n",
       "4  7qyig9  Don Lemon Dumbfounded By Jeff Session's Commen...  2018-01-17   \n",
       "\n",
       "   moral_label  \n",
       "0            1  \n",
       "1            1  \n",
       "2            0  \n",
       "3            0  \n",
       "4            0  "
      ]
     },
     "execution_count": 12,
     "metadata": {},
     "output_type": "execute_result"
    }
   ],
   "source": [
    "# Examine final table:\n",
    "model_labelled_posts.head()"
   ]
  },
  {
   "cell_type": "markdown",
   "id": "548767d3",
   "metadata": {},
   "source": [
    "#### Combined Posts Dataset: "
   ]
  },
  {
   "cell_type": "code",
   "execution_count": 13,
   "id": "b1b5a858",
   "metadata": {},
   "outputs": [
    {
     "name": "stderr",
     "output_type": "stream",
     "text": [
      "/var/folders/2w/bw2mbvzn6ns_37v4dn94xthm0000gn/T/ipykernel_37342/903783430.py:1: FutureWarning: The frame.append method is deprecated and will be removed from pandas in a future version. Use pandas.concat instead.\n",
      "  allposts = model_labelled_posts.append(labelled_posts)\n"
     ]
    }
   ],
   "source": [
    "allposts = model_labelled_posts.append(labelled_posts)"
   ]
  },
  {
   "cell_type": "code",
   "execution_count": 14,
   "id": "181e576b",
   "metadata": {},
   "outputs": [
    {
     "data": {
      "text/plain": [
       "5708"
      ]
     },
     "execution_count": 14,
     "metadata": {},
     "output_type": "execute_result"
    }
   ],
   "source": [
    "len(allposts)"
   ]
  },
  {
   "cell_type": "code",
   "execution_count": 15,
   "id": "bd2d9667",
   "metadata": {},
   "outputs": [
    {
     "name": "stdout",
     "output_type": "stream",
     "text": [
      "Is the combined post df of equal length as the human labelled and classifier labelled post df? - True\n"
     ]
    }
   ],
   "source": [
    "# check if this is correct\n",
    "print (f\"Is the combined post df of equal length as the human labelled and classifier labelled post df? - {len(allposts)==len(labelled_posts)+len(model_labelled_posts)}\") "
   ]
  },
  {
   "cell_type": "markdown",
   "id": "7778f355",
   "metadata": {},
   "source": [
    "#### Add labelling with \"neutral\" and \"moralised\" (corresponding to 0 and 1)"
   ]
  },
  {
   "cell_type": "code",
   "execution_count": 16,
   "id": "fb90d12a",
   "metadata": {},
   "outputs": [],
   "source": [
    "allposts[\"moral_label_w\"] = allposts[\"moral_label\"].replace({0:\"Neutral\", 1:\"Moralised\"})"
   ]
  },
  {
   "cell_type": "markdown",
   "id": "6f317459",
   "metadata": {},
   "source": [
    "#### Extract year from posts"
   ]
  },
  {
   "cell_type": "code",
   "execution_count": 17,
   "id": "2eee1361",
   "metadata": {},
   "outputs": [],
   "source": [
    "allposts[\"year\"] = pd.DatetimeIndex(allposts[\"date\"]).year"
   ]
  },
  {
   "cell_type": "markdown",
   "id": "8667f782",
   "metadata": {},
   "source": [
    "## Comments:"
   ]
  },
  {
   "cell_type": "markdown",
   "id": "56c81e4a",
   "metadata": {},
   "source": [
    "#### Manually labelled dataset:"
   ]
  },
  {
   "cell_type": "code",
   "execution_count": 18,
   "id": "671989c0",
   "metadata": {},
   "outputs": [
    {
     "data": {
      "text/html": [
       "<div>\n",
       "<style scoped>\n",
       "    .dataframe tbody tr th:only-of-type {\n",
       "        vertical-align: middle;\n",
       "    }\n",
       "\n",
       "    .dataframe tbody tr th {\n",
       "        vertical-align: top;\n",
       "    }\n",
       "\n",
       "    .dataframe thead th {\n",
       "        text-align: right;\n",
       "    }\n",
       "</style>\n",
       "<table border=\"1\" class=\"dataframe\">\n",
       "  <thead>\n",
       "    <tr style=\"text-align: right;\">\n",
       "      <th></th>\n",
       "      <th>Unnamed: 0</th>\n",
       "      <th>post_id</th>\n",
       "      <th>comment_id</th>\n",
       "      <th>AP_label</th>\n",
       "      <th>AP_inciv</th>\n",
       "      <th>AP_group</th>\n",
       "      <th>comment</th>\n",
       "    </tr>\n",
       "  </thead>\n",
       "  <tbody>\n",
       "    <tr>\n",
       "      <th>0</th>\n",
       "      <td>5513</td>\n",
       "      <td>5uq3hi</td>\n",
       "      <td>ddwiqvl</td>\n",
       "      <td>1</td>\n",
       "      <td>1</td>\n",
       "      <td>1</td>\n",
       "      <td>They couldn't have worked something out in adv...</td>\n",
       "    </tr>\n",
       "    <tr>\n",
       "      <th>1</th>\n",
       "      <td>1372</td>\n",
       "      <td>40rytx</td>\n",
       "      <td>cywy5j8</td>\n",
       "      <td>1</td>\n",
       "      <td>1</td>\n",
       "      <td>1</td>\n",
       "      <td>Well yeah, with no conceal and carry to protec...</td>\n",
       "    </tr>\n",
       "    <tr>\n",
       "      <th>2</th>\n",
       "      <td>14515</td>\n",
       "      <td>b1pe5m</td>\n",
       "      <td>eiovpa5</td>\n",
       "      <td>1</td>\n",
       "      <td>1</td>\n",
       "      <td>0</td>\n",
       "      <td>I'd love to see somebody choke the fuck out Br...</td>\n",
       "    </tr>\n",
       "    <tr>\n",
       "      <th>3</th>\n",
       "      <td>5450</td>\n",
       "      <td>5uq3hi</td>\n",
       "      <td>ddwh9p6</td>\n",
       "      <td>0</td>\n",
       "      <td>0</td>\n",
       "      <td>0</td>\n",
       "      <td>in the UK this would be a textbook case of unf...</td>\n",
       "    </tr>\n",
       "    <tr>\n",
       "      <th>4</th>\n",
       "      <td>19859</td>\n",
       "      <td>ex0ttq</td>\n",
       "      <td>fgbu7t7</td>\n",
       "      <td>0</td>\n",
       "      <td>0</td>\n",
       "      <td>0</td>\n",
       "      <td>Illegal aliens, you mean?</td>\n",
       "    </tr>\n",
       "  </tbody>\n",
       "</table>\n",
       "</div>"
      ],
      "text/plain": [
       "   Unnamed: 0 post_id comment_id  AP_label  AP_inciv  AP_group  \\\n",
       "0        5513  5uq3hi    ddwiqvl         1         1         1   \n",
       "1        1372  40rytx    cywy5j8         1         1         1   \n",
       "2       14515  b1pe5m    eiovpa5         1         1         0   \n",
       "3        5450  5uq3hi    ddwh9p6         0         0         0   \n",
       "4       19859  ex0ttq    fgbu7t7         0         0         0   \n",
       "\n",
       "                                             comment  \n",
       "0  They couldn't have worked something out in adv...  \n",
       "1  Well yeah, with no conceal and carry to protec...  \n",
       "2  I'd love to see somebody choke the fuck out Br...  \n",
       "3  in the UK this would be a textbook case of unf...  \n",
       "4                          Illegal aliens, you mean?  "
      ]
     },
     "execution_count": 18,
     "metadata": {},
     "output_type": "execute_result"
    }
   ],
   "source": [
    "labelled_comments.head()"
   ]
  },
  {
   "cell_type": "code",
   "execution_count": 19,
   "id": "76b40722",
   "metadata": {},
   "outputs": [],
   "source": [
    "# Remove columns that are not needed (Unnamed:0, AP_inciv, AP_group)\n",
    "labelled_comments = labelled_comments.drop(columns = [\"Unnamed: 0\", \"AP_inciv\", \"AP_group\"])"
   ]
  },
  {
   "cell_type": "code",
   "execution_count": 20,
   "id": "692a6a2b",
   "metadata": {},
   "outputs": [],
   "source": [
    "# Change column order so labels are at the end of the df as in the model_labelled_comments df\n",
    "newcolumnorder = [\"post_id\", \"comment_id\", \"comment\", \"AP_label\"]\n",
    "labelled_comments = labelled_comments[newcolumnorder]"
   ]
  },
  {
   "cell_type": "code",
   "execution_count": 21,
   "id": "5a60da57",
   "metadata": {},
   "outputs": [
    {
     "data": {
      "text/html": [
       "<div>\n",
       "<style scoped>\n",
       "    .dataframe tbody tr th:only-of-type {\n",
       "        vertical-align: middle;\n",
       "    }\n",
       "\n",
       "    .dataframe tbody tr th {\n",
       "        vertical-align: top;\n",
       "    }\n",
       "\n",
       "    .dataframe thead th {\n",
       "        text-align: right;\n",
       "    }\n",
       "</style>\n",
       "<table border=\"1\" class=\"dataframe\">\n",
       "  <thead>\n",
       "    <tr style=\"text-align: right;\">\n",
       "      <th></th>\n",
       "      <th>post_id</th>\n",
       "      <th>comment_id</th>\n",
       "      <th>comment</th>\n",
       "      <th>AP_label</th>\n",
       "    </tr>\n",
       "  </thead>\n",
       "  <tbody>\n",
       "    <tr>\n",
       "      <th>0</th>\n",
       "      <td>5uq3hi</td>\n",
       "      <td>ddwiqvl</td>\n",
       "      <td>They couldn't have worked something out in adv...</td>\n",
       "      <td>1</td>\n",
       "    </tr>\n",
       "    <tr>\n",
       "      <th>1</th>\n",
       "      <td>40rytx</td>\n",
       "      <td>cywy5j8</td>\n",
       "      <td>Well yeah, with no conceal and carry to protec...</td>\n",
       "      <td>1</td>\n",
       "    </tr>\n",
       "    <tr>\n",
       "      <th>2</th>\n",
       "      <td>b1pe5m</td>\n",
       "      <td>eiovpa5</td>\n",
       "      <td>I'd love to see somebody choke the fuck out Br...</td>\n",
       "      <td>1</td>\n",
       "    </tr>\n",
       "    <tr>\n",
       "      <th>3</th>\n",
       "      <td>5uq3hi</td>\n",
       "      <td>ddwh9p6</td>\n",
       "      <td>in the UK this would be a textbook case of unf...</td>\n",
       "      <td>0</td>\n",
       "    </tr>\n",
       "    <tr>\n",
       "      <th>4</th>\n",
       "      <td>ex0ttq</td>\n",
       "      <td>fgbu7t7</td>\n",
       "      <td>Illegal aliens, you mean?</td>\n",
       "      <td>0</td>\n",
       "    </tr>\n",
       "  </tbody>\n",
       "</table>\n",
       "</div>"
      ],
      "text/plain": [
       "  post_id comment_id                                            comment  \\\n",
       "0  5uq3hi    ddwiqvl  They couldn't have worked something out in adv...   \n",
       "1  40rytx    cywy5j8  Well yeah, with no conceal and carry to protec...   \n",
       "2  b1pe5m    eiovpa5  I'd love to see somebody choke the fuck out Br...   \n",
       "3  5uq3hi    ddwh9p6  in the UK this would be a textbook case of unf...   \n",
       "4  ex0ttq    fgbu7t7                          Illegal aliens, you mean?   \n",
       "\n",
       "   AP_label  \n",
       "0         1  \n",
       "1         1  \n",
       "2         1  \n",
       "3         0  \n",
       "4         0  "
      ]
     },
     "execution_count": 21,
     "metadata": {},
     "output_type": "execute_result"
    }
   ],
   "source": [
    "labelled_comments.head()"
   ]
  },
  {
   "cell_type": "markdown",
   "id": "13225017",
   "metadata": {},
   "source": [
    "#### Classifier labelled dataset"
   ]
  },
  {
   "cell_type": "code",
   "execution_count": 22,
   "id": "8860b668",
   "metadata": {},
   "outputs": [
    {
     "data": {
      "text/html": [
       "<div>\n",
       "<style scoped>\n",
       "    .dataframe tbody tr th:only-of-type {\n",
       "        vertical-align: middle;\n",
       "    }\n",
       "\n",
       "    .dataframe tbody tr th {\n",
       "        vertical-align: top;\n",
       "    }\n",
       "\n",
       "    .dataframe thead th {\n",
       "        text-align: right;\n",
       "    }\n",
       "</style>\n",
       "<table border=\"1\" class=\"dataframe\">\n",
       "  <thead>\n",
       "    <tr style=\"text-align: right;\">\n",
       "      <th></th>\n",
       "      <th>Unnamed: 0.1</th>\n",
       "      <th>Unnamed: 0</th>\n",
       "      <th>post_id</th>\n",
       "      <th>comment_id</th>\n",
       "      <th>comment</th>\n",
       "      <th>AP_labels</th>\n",
       "    </tr>\n",
       "  </thead>\n",
       "  <tbody>\n",
       "    <tr>\n",
       "      <th>0</th>\n",
       "      <td>0</td>\n",
       "      <td>0</td>\n",
       "      <td>flgxp</td>\n",
       "      <td>c1gtf8n</td>\n",
       "      <td>I don't advocate the death penalty.  But this ...</td>\n",
       "      <td>0</td>\n",
       "    </tr>\n",
       "    <tr>\n",
       "      <th>1</th>\n",
       "      <td>1</td>\n",
       "      <td>1</td>\n",
       "      <td>flgxp</td>\n",
       "      <td>c1gtjcm</td>\n",
       "      <td>Did anybody else see [this video](/david-neiwe...</td>\n",
       "      <td>0</td>\n",
       "    </tr>\n",
       "    <tr>\n",
       "      <th>2</th>\n",
       "      <td>2</td>\n",
       "      <td>2</td>\n",
       "      <td>flgxp</td>\n",
       "      <td>c1gtlbj</td>\n",
       "      <td>I've been following this case for a while. I'm...</td>\n",
       "      <td>0</td>\n",
       "    </tr>\n",
       "    <tr>\n",
       "      <th>3</th>\n",
       "      <td>3</td>\n",
       "      <td>4</td>\n",
       "      <td>flgxp</td>\n",
       "      <td>c1gtnqs</td>\n",
       "      <td>Good.</td>\n",
       "      <td>0</td>\n",
       "    </tr>\n",
       "    <tr>\n",
       "      <th>4</th>\n",
       "      <td>4</td>\n",
       "      <td>5</td>\n",
       "      <td>flgxp</td>\n",
       "      <td>c1gtnuc</td>\n",
       "      <td>Fry that bitch!</td>\n",
       "      <td>0</td>\n",
       "    </tr>\n",
       "  </tbody>\n",
       "</table>\n",
       "</div>"
      ],
      "text/plain": [
       "   Unnamed: 0.1  Unnamed: 0 post_id comment_id  \\\n",
       "0             0           0   flgxp    c1gtf8n   \n",
       "1             1           1   flgxp    c1gtjcm   \n",
       "2             2           2   flgxp    c1gtlbj   \n",
       "3             3           4   flgxp    c1gtnqs   \n",
       "4             4           5   flgxp    c1gtnuc   \n",
       "\n",
       "                                             comment  AP_labels  \n",
       "0  I don't advocate the death penalty.  But this ...          0  \n",
       "1  Did anybody else see [this video](/david-neiwe...          0  \n",
       "2  I've been following this case for a while. I'm...          0  \n",
       "3                                              Good.          0  \n",
       "4                                    Fry that bitch!          0  "
      ]
     },
     "execution_count": 22,
     "metadata": {},
     "output_type": "execute_result"
    }
   ],
   "source": [
    "model_labelled_comments.head()"
   ]
  },
  {
   "cell_type": "code",
   "execution_count": 23,
   "id": "1e9ccfda",
   "metadata": {},
   "outputs": [],
   "source": [
    "# Remove columns that are not needed (Unnamed:0, AP_inciv, AP_group)\n",
    "model_labelled_comments = model_labelled_comments.drop(\n",
    "    columns = [\"Unnamed: 0.1\",\"Unnamed: 0\"]).rename(\n",
    "    columns = {\"AP_labels\":\"AP_label\"}) "
   ]
  },
  {
   "cell_type": "code",
   "execution_count": 24,
   "id": "fd4760df",
   "metadata": {},
   "outputs": [
    {
     "data": {
      "text/html": [
       "<div>\n",
       "<style scoped>\n",
       "    .dataframe tbody tr th:only-of-type {\n",
       "        vertical-align: middle;\n",
       "    }\n",
       "\n",
       "    .dataframe tbody tr th {\n",
       "        vertical-align: top;\n",
       "    }\n",
       "\n",
       "    .dataframe thead th {\n",
       "        text-align: right;\n",
       "    }\n",
       "</style>\n",
       "<table border=\"1\" class=\"dataframe\">\n",
       "  <thead>\n",
       "    <tr style=\"text-align: right;\">\n",
       "      <th></th>\n",
       "      <th>post_id</th>\n",
       "      <th>comment_id</th>\n",
       "      <th>comment</th>\n",
       "      <th>AP_label</th>\n",
       "    </tr>\n",
       "  </thead>\n",
       "  <tbody>\n",
       "    <tr>\n",
       "      <th>0</th>\n",
       "      <td>flgxp</td>\n",
       "      <td>c1gtf8n</td>\n",
       "      <td>I don't advocate the death penalty.  But this ...</td>\n",
       "      <td>0</td>\n",
       "    </tr>\n",
       "    <tr>\n",
       "      <th>1</th>\n",
       "      <td>flgxp</td>\n",
       "      <td>c1gtjcm</td>\n",
       "      <td>Did anybody else see [this video](/david-neiwe...</td>\n",
       "      <td>0</td>\n",
       "    </tr>\n",
       "    <tr>\n",
       "      <th>2</th>\n",
       "      <td>flgxp</td>\n",
       "      <td>c1gtlbj</td>\n",
       "      <td>I've been following this case for a while. I'm...</td>\n",
       "      <td>0</td>\n",
       "    </tr>\n",
       "    <tr>\n",
       "      <th>3</th>\n",
       "      <td>flgxp</td>\n",
       "      <td>c1gtnqs</td>\n",
       "      <td>Good.</td>\n",
       "      <td>0</td>\n",
       "    </tr>\n",
       "    <tr>\n",
       "      <th>4</th>\n",
       "      <td>flgxp</td>\n",
       "      <td>c1gtnuc</td>\n",
       "      <td>Fry that bitch!</td>\n",
       "      <td>0</td>\n",
       "    </tr>\n",
       "  </tbody>\n",
       "</table>\n",
       "</div>"
      ],
      "text/plain": [
       "  post_id comment_id                                            comment  \\\n",
       "0   flgxp    c1gtf8n  I don't advocate the death penalty.  But this ...   \n",
       "1   flgxp    c1gtjcm  Did anybody else see [this video](/david-neiwe...   \n",
       "2   flgxp    c1gtlbj  I've been following this case for a while. I'm...   \n",
       "3   flgxp    c1gtnqs                                              Good.   \n",
       "4   flgxp    c1gtnuc                                    Fry that bitch!   \n",
       "\n",
       "   AP_label  \n",
       "0         0  \n",
       "1         0  \n",
       "2         0  \n",
       "3         0  \n",
       "4         0  "
      ]
     },
     "execution_count": 24,
     "metadata": {},
     "output_type": "execute_result"
    }
   ],
   "source": [
    "model_labelled_comments.head()"
   ]
  },
  {
   "cell_type": "markdown",
   "id": "d3ac1c99",
   "metadata": {},
   "source": [
    "#### Dataset with both comments"
   ]
  },
  {
   "cell_type": "code",
   "execution_count": 25,
   "id": "5b1db42c",
   "metadata": {},
   "outputs": [
    {
     "name": "stderr",
     "output_type": "stream",
     "text": [
      "/var/folders/2w/bw2mbvzn6ns_37v4dn94xthm0000gn/T/ipykernel_37342/3636821257.py:1: FutureWarning: The frame.append method is deprecated and will be removed from pandas in a future version. Use pandas.concat instead.\n",
      "  allcomments = model_labelled_comments.append(labelled_comments)\n"
     ]
    }
   ],
   "source": [
    "allcomments = model_labelled_comments.append(labelled_comments)"
   ]
  },
  {
   "cell_type": "code",
   "execution_count": 26,
   "id": "e3c5ea91",
   "metadata": {},
   "outputs": [
    {
     "name": "stdout",
     "output_type": "stream",
     "text": [
      "Is the combined post df of equal length as the human labelled and classifier labelled comments df? - True\n"
     ]
    }
   ],
   "source": [
    "# check if appending worked\n",
    "print (f\"Is the combined post df of equal length as the human labelled and classifier labelled comments df? - {len(allcomments)==len(labelled_comments)+len(model_labelled_comments)}\") "
   ]
  },
  {
   "cell_type": "markdown",
   "id": "9408e4e0",
   "metadata": {},
   "source": [
    "#### Merge Post & Comments Dfs"
   ]
  },
  {
   "cell_type": "markdown",
   "id": "b4d4b74b",
   "metadata": {},
   "source": [
    "Using the post_id to join the comments to the posts, dropping any NAs that may have been introduced while retrieving the comments corresponding to the posts from the archived dataset. "
   ]
  },
  {
   "cell_type": "code",
   "execution_count": 27,
   "id": "04c402a7",
   "metadata": {},
   "outputs": [],
   "source": [
    "posts_comments = allcomments.merge(allposts, how = \"left\", on = [\"post_id\"]).dropna()"
   ]
  },
  {
   "cell_type": "code",
   "execution_count": 28,
   "id": "b81ce725",
   "metadata": {},
   "outputs": [
    {
     "data": {
      "text/html": [
       "<div>\n",
       "<style scoped>\n",
       "    .dataframe tbody tr th:only-of-type {\n",
       "        vertical-align: middle;\n",
       "    }\n",
       "\n",
       "    .dataframe tbody tr th {\n",
       "        vertical-align: top;\n",
       "    }\n",
       "\n",
       "    .dataframe thead th {\n",
       "        text-align: right;\n",
       "    }\n",
       "</style>\n",
       "<table border=\"1\" class=\"dataframe\">\n",
       "  <thead>\n",
       "    <tr style=\"text-align: right;\">\n",
       "      <th></th>\n",
       "      <th>post_id</th>\n",
       "      <th>comment_id</th>\n",
       "      <th>comment</th>\n",
       "      <th>AP_label</th>\n",
       "      <th>title</th>\n",
       "      <th>date</th>\n",
       "      <th>moral_label</th>\n",
       "      <th>moral_label_w</th>\n",
       "      <th>year</th>\n",
       "    </tr>\n",
       "  </thead>\n",
       "  <tbody>\n",
       "    <tr>\n",
       "      <th>0</th>\n",
       "      <td>flgxp</td>\n",
       "      <td>c1gtf8n</td>\n",
       "      <td>I don't advocate the death penalty.  But this ...</td>\n",
       "      <td>0</td>\n",
       "      <td>Arizona vigilante/anti-illegal immigration act...</td>\n",
       "      <td>2011-02-14</td>\n",
       "      <td>1.0</td>\n",
       "      <td>Moralised</td>\n",
       "      <td>2011.0</td>\n",
       "    </tr>\n",
       "    <tr>\n",
       "      <th>1</th>\n",
       "      <td>flgxp</td>\n",
       "      <td>c1gtjcm</td>\n",
       "      <td>Did anybody else see [this video](/david-neiwe...</td>\n",
       "      <td>0</td>\n",
       "      <td>Arizona vigilante/anti-illegal immigration act...</td>\n",
       "      <td>2011-02-14</td>\n",
       "      <td>1.0</td>\n",
       "      <td>Moralised</td>\n",
       "      <td>2011.0</td>\n",
       "    </tr>\n",
       "    <tr>\n",
       "      <th>2</th>\n",
       "      <td>flgxp</td>\n",
       "      <td>c1gtlbj</td>\n",
       "      <td>I've been following this case for a while. I'm...</td>\n",
       "      <td>0</td>\n",
       "      <td>Arizona vigilante/anti-illegal immigration act...</td>\n",
       "      <td>2011-02-14</td>\n",
       "      <td>1.0</td>\n",
       "      <td>Moralised</td>\n",
       "      <td>2011.0</td>\n",
       "    </tr>\n",
       "    <tr>\n",
       "      <th>3</th>\n",
       "      <td>flgxp</td>\n",
       "      <td>c1gtnqs</td>\n",
       "      <td>Good.</td>\n",
       "      <td>0</td>\n",
       "      <td>Arizona vigilante/anti-illegal immigration act...</td>\n",
       "      <td>2011-02-14</td>\n",
       "      <td>1.0</td>\n",
       "      <td>Moralised</td>\n",
       "      <td>2011.0</td>\n",
       "    </tr>\n",
       "    <tr>\n",
       "      <th>4</th>\n",
       "      <td>flgxp</td>\n",
       "      <td>c1gtnuc</td>\n",
       "      <td>Fry that bitch!</td>\n",
       "      <td>0</td>\n",
       "      <td>Arizona vigilante/anti-illegal immigration act...</td>\n",
       "      <td>2011-02-14</td>\n",
       "      <td>1.0</td>\n",
       "      <td>Moralised</td>\n",
       "      <td>2011.0</td>\n",
       "    </tr>\n",
       "  </tbody>\n",
       "</table>\n",
       "</div>"
      ],
      "text/plain": [
       "  post_id comment_id                                            comment  \\\n",
       "0   flgxp    c1gtf8n  I don't advocate the death penalty.  But this ...   \n",
       "1   flgxp    c1gtjcm  Did anybody else see [this video](/david-neiwe...   \n",
       "2   flgxp    c1gtlbj  I've been following this case for a while. I'm...   \n",
       "3   flgxp    c1gtnqs                                              Good.   \n",
       "4   flgxp    c1gtnuc                                    Fry that bitch!   \n",
       "\n",
       "   AP_label                                              title        date  \\\n",
       "0         0  Arizona vigilante/anti-illegal immigration act...  2011-02-14   \n",
       "1         0  Arizona vigilante/anti-illegal immigration act...  2011-02-14   \n",
       "2         0  Arizona vigilante/anti-illegal immigration act...  2011-02-14   \n",
       "3         0  Arizona vigilante/anti-illegal immigration act...  2011-02-14   \n",
       "4         0  Arizona vigilante/anti-illegal immigration act...  2011-02-14   \n",
       "\n",
       "   moral_label moral_label_w    year  \n",
       "0          1.0     Moralised  2011.0  \n",
       "1          1.0     Moralised  2011.0  \n",
       "2          1.0     Moralised  2011.0  \n",
       "3          1.0     Moralised  2011.0  \n",
       "4          1.0     Moralised  2011.0  "
      ]
     },
     "execution_count": 28,
     "metadata": {},
     "output_type": "execute_result"
    }
   ],
   "source": [
    "posts_comments.head()"
   ]
  },
  {
   "cell_type": "code",
   "execution_count": 29,
   "id": "5b97e34b",
   "metadata": {},
   "outputs": [],
   "source": [
    "posts_comments[\"moral_label_w\"] = posts_comments[\"moral_label\"].replace({0:\"Neutral\", 1:\"Moralised\"})"
   ]
  },
  {
   "cell_type": "code",
   "execution_count": 30,
   "id": "ac269ff2",
   "metadata": {},
   "outputs": [],
   "source": [
    "posts_comments[\"AP_label_w\"] = posts_comments[\"AP_label\"].replace({0:\"Other\", 1:\"AP_markers\"})"
   ]
  },
  {
   "cell_type": "markdown",
   "id": "3a295d40",
   "metadata": {},
   "source": [
    "### Extract year and month from date column for analysis"
   ]
  },
  {
   "cell_type": "code",
   "execution_count": 31,
   "id": "f4f5571e",
   "metadata": {},
   "outputs": [],
   "source": [
    "posts_comments[\"year\"] = pd.DatetimeIndex(posts_comments[\"date\"]).year"
   ]
  },
  {
   "cell_type": "code",
   "execution_count": 32,
   "id": "edf0b432",
   "metadata": {},
   "outputs": [],
   "source": [
    "posts_comments[\"month\"] = pd.DatetimeIndex(posts_comments[\"date\"]).month"
   ]
  },
  {
   "cell_type": "markdown",
   "id": "2525158c",
   "metadata": {},
   "source": [
    "# Descriptives"
   ]
  },
  {
   "cell_type": "markdown",
   "id": "ea8d5f5d",
   "metadata": {},
   "source": [
    "### What is the date range in the random sample of posts and corresponding comments?"
   ]
  },
  {
   "cell_type": "code",
   "execution_count": 33,
   "id": "724063f9",
   "metadata": {},
   "outputs": [
    {
     "name": "stdout",
     "output_type": "stream",
     "text": [
      "the posts in this dataset range from 2011-02-14 to 2022-12-21\n"
     ]
    }
   ],
   "source": [
    "earliest = posts_comments[\"date\"].min()\n",
    "latest = posts_comments[\"date\"].max()\n",
    "print(f\"the posts in this dataset range from {earliest} to {latest}\")"
   ]
  },
  {
   "cell_type": "markdown",
   "id": "4299cae1",
   "metadata": {},
   "source": [
    "### When it comes to immigration, are there more moralised titles, or non-moralised titles?"
   ]
  },
  {
   "cell_type": "markdown",
   "id": "3782dda2",
   "metadata": {},
   "source": [
    "### In absolute terms:"
   ]
  },
  {
   "cell_type": "code",
   "execution_count": 34,
   "id": "580ad6ed",
   "metadata": {},
   "outputs": [
    {
     "data": {
      "image/png": "[encoded data removed]",
      "text/plain": [
       "<Figure size 640x480 with 1 Axes>"
      ]
     },
     "metadata": {},
     "output_type": "display_data"
    }
   ],
   "source": [
    "# set plot style\n",
    "sns.set_style(\"whitegrid\")\n",
    "\n",
    "# create plot and store as object\n",
    "posts_moral_prevalence = sns.countplot(data = allposts, x = \"moral_label_w\", \n",
    "                                      palette=\"pastel\")\n",
    "\n",
    "# specify plot labels & title \n",
    "plt.xlabel(\"Moral Frames\")\n",
    "plt.ylabel(\"Number of Titles\")\n",
    "plt.title(\"Absolute Number of Moral and Neutral Frames in Reddit Post Titles\")\n",
    "\n",
    "# Add values to the bar plot\n",
    "posts_moral_prevalence.bar_label(posts_moral_prevalence.containers[0])\n",
    "\n",
    "#save to .png\n",
    "plt.savefig(\"prevalence_moralframes_overall.png\", bbox_inches=\"tight\")\n",
    "\n",
    "#show plot\n",
    "plt.show(posts_moral_prevalence)"
   ]
  },
  {
   "cell_type": "markdown",
   "id": "5c9a98a1",
   "metadata": {},
   "source": [
    "### In relative terms:"
   ]
  },
  {
   "cell_type": "code",
   "execution_count": 35,
   "id": "a3975ea2",
   "metadata": {},
   "outputs": [],
   "source": [
    "# function to get relative number of a variable\n",
    "def get_relative (df, count, totalcount, final_column_name):\n",
    "    df[final_column_name] = df[count]/totalcount\n",
    "    return df"
   ]
  },
  {
   "cell_type": "code",
   "execution_count": 36,
   "id": "00d97be8",
   "metadata": {},
   "outputs": [],
   "source": [
    "relative_moral = allposts.groupby([\"year\", \"moral_label_w\"]).size().reset_index(name=\"Count\")"
   ]
  },
  {
   "cell_type": "code",
   "execution_count": 37,
   "id": "597b1000",
   "metadata": {},
   "outputs": [],
   "source": [
    "total_count = relative_moral.groupby(\"year\")[\"Count\"].transform(lambda x: x.sum())"
   ]
  },
  {
   "cell_type": "code",
   "execution_count": 38,
   "id": "381c13ab",
   "metadata": {},
   "outputs": [
    {
     "data": {
      "text/html": [
       "<div>\n",
       "<style scoped>\n",
       "    .dataframe tbody tr th:only-of-type {\n",
       "        vertical-align: middle;\n",
       "    }\n",
       "\n",
       "    .dataframe tbody tr th {\n",
       "        vertical-align: top;\n",
       "    }\n",
       "\n",
       "    .dataframe thead th {\n",
       "        text-align: right;\n",
       "    }\n",
       "</style>\n",
       "<table border=\"1\" class=\"dataframe\">\n",
       "  <thead>\n",
       "    <tr style=\"text-align: right;\">\n",
       "      <th></th>\n",
       "      <th>year</th>\n",
       "      <th>moral_label_w</th>\n",
       "      <th>Count</th>\n",
       "      <th>relative_numbers</th>\n",
       "    </tr>\n",
       "  </thead>\n",
       "  <tbody>\n",
       "    <tr>\n",
       "      <th>0</th>\n",
       "      <td>2011</td>\n",
       "      <td>Moralised</td>\n",
       "      <td>1</td>\n",
       "      <td>1.000000</td>\n",
       "    </tr>\n",
       "    <tr>\n",
       "      <th>1</th>\n",
       "      <td>2012</td>\n",
       "      <td>Moralised</td>\n",
       "      <td>1</td>\n",
       "      <td>1.000000</td>\n",
       "    </tr>\n",
       "    <tr>\n",
       "      <th>2</th>\n",
       "      <td>2013</td>\n",
       "      <td>Moralised</td>\n",
       "      <td>1</td>\n",
       "      <td>0.500000</td>\n",
       "    </tr>\n",
       "    <tr>\n",
       "      <th>3</th>\n",
       "      <td>2013</td>\n",
       "      <td>Neutral</td>\n",
       "      <td>1</td>\n",
       "      <td>0.500000</td>\n",
       "    </tr>\n",
       "    <tr>\n",
       "      <th>4</th>\n",
       "      <td>2014</td>\n",
       "      <td>Moralised</td>\n",
       "      <td>4</td>\n",
       "      <td>0.666667</td>\n",
       "    </tr>\n",
       "    <tr>\n",
       "      <th>5</th>\n",
       "      <td>2014</td>\n",
       "      <td>Neutral</td>\n",
       "      <td>2</td>\n",
       "      <td>0.333333</td>\n",
       "    </tr>\n",
       "    <tr>\n",
       "      <th>6</th>\n",
       "      <td>2015</td>\n",
       "      <td>Moralised</td>\n",
       "      <td>3</td>\n",
       "      <td>0.600000</td>\n",
       "    </tr>\n",
       "    <tr>\n",
       "      <th>7</th>\n",
       "      <td>2015</td>\n",
       "      <td>Neutral</td>\n",
       "      <td>2</td>\n",
       "      <td>0.400000</td>\n",
       "    </tr>\n",
       "    <tr>\n",
       "      <th>8</th>\n",
       "      <td>2016</td>\n",
       "      <td>Moralised</td>\n",
       "      <td>180</td>\n",
       "      <td>0.193340</td>\n",
       "    </tr>\n",
       "    <tr>\n",
       "      <th>9</th>\n",
       "      <td>2016</td>\n",
       "      <td>Neutral</td>\n",
       "      <td>751</td>\n",
       "      <td>0.806660</td>\n",
       "    </tr>\n",
       "    <tr>\n",
       "      <th>10</th>\n",
       "      <td>2017</td>\n",
       "      <td>Moralised</td>\n",
       "      <td>341</td>\n",
       "      <td>0.202374</td>\n",
       "    </tr>\n",
       "    <tr>\n",
       "      <th>11</th>\n",
       "      <td>2017</td>\n",
       "      <td>Neutral</td>\n",
       "      <td>1344</td>\n",
       "      <td>0.797626</td>\n",
       "    </tr>\n",
       "    <tr>\n",
       "      <th>12</th>\n",
       "      <td>2018</td>\n",
       "      <td>Moralised</td>\n",
       "      <td>418</td>\n",
       "      <td>0.340946</td>\n",
       "    </tr>\n",
       "    <tr>\n",
       "      <th>13</th>\n",
       "      <td>2018</td>\n",
       "      <td>Neutral</td>\n",
       "      <td>808</td>\n",
       "      <td>0.659054</td>\n",
       "    </tr>\n",
       "    <tr>\n",
       "      <th>14</th>\n",
       "      <td>2019</td>\n",
       "      <td>Moralised</td>\n",
       "      <td>270</td>\n",
       "      <td>0.307868</td>\n",
       "    </tr>\n",
       "    <tr>\n",
       "      <th>15</th>\n",
       "      <td>2019</td>\n",
       "      <td>Neutral</td>\n",
       "      <td>607</td>\n",
       "      <td>0.692132</td>\n",
       "    </tr>\n",
       "    <tr>\n",
       "      <th>16</th>\n",
       "      <td>2020</td>\n",
       "      <td>Moralised</td>\n",
       "      <td>84</td>\n",
       "      <td>0.153565</td>\n",
       "    </tr>\n",
       "    <tr>\n",
       "      <th>17</th>\n",
       "      <td>2020</td>\n",
       "      <td>Neutral</td>\n",
       "      <td>463</td>\n",
       "      <td>0.846435</td>\n",
       "    </tr>\n",
       "    <tr>\n",
       "      <th>18</th>\n",
       "      <td>2021</td>\n",
       "      <td>Moralised</td>\n",
       "      <td>50</td>\n",
       "      <td>0.190114</td>\n",
       "    </tr>\n",
       "    <tr>\n",
       "      <th>19</th>\n",
       "      <td>2021</td>\n",
       "      <td>Neutral</td>\n",
       "      <td>213</td>\n",
       "      <td>0.809886</td>\n",
       "    </tr>\n",
       "    <tr>\n",
       "      <th>20</th>\n",
       "      <td>2022</td>\n",
       "      <td>Moralised</td>\n",
       "      <td>36</td>\n",
       "      <td>0.219512</td>\n",
       "    </tr>\n",
       "    <tr>\n",
       "      <th>21</th>\n",
       "      <td>2022</td>\n",
       "      <td>Neutral</td>\n",
       "      <td>128</td>\n",
       "      <td>0.780488</td>\n",
       "    </tr>\n",
       "  </tbody>\n",
       "</table>\n",
       "</div>"
      ],
      "text/plain": [
       "    year moral_label_w  Count  relative_numbers\n",
       "0   2011     Moralised      1          1.000000\n",
       "1   2012     Moralised      1          1.000000\n",
       "2   2013     Moralised      1          0.500000\n",
       "3   2013       Neutral      1          0.500000\n",
       "4   2014     Moralised      4          0.666667\n",
       "5   2014       Neutral      2          0.333333\n",
       "6   2015     Moralised      3          0.600000\n",
       "7   2015       Neutral      2          0.400000\n",
       "8   2016     Moralised    180          0.193340\n",
       "9   2016       Neutral    751          0.806660\n",
       "10  2017     Moralised    341          0.202374\n",
       "11  2017       Neutral   1344          0.797626\n",
       "12  2018     Moralised    418          0.340946\n",
       "13  2018       Neutral    808          0.659054\n",
       "14  2019     Moralised    270          0.307868\n",
       "15  2019       Neutral    607          0.692132\n",
       "16  2020     Moralised     84          0.153565\n",
       "17  2020       Neutral    463          0.846435\n",
       "18  2021     Moralised     50          0.190114\n",
       "19  2021       Neutral    213          0.809886\n",
       "20  2022     Moralised     36          0.219512\n",
       "21  2022       Neutral    128          0.780488"
      ]
     },
     "execution_count": 38,
     "metadata": {},
     "output_type": "execute_result"
    }
   ],
   "source": [
    "get_relative(relative_moral, \"Count\", total_count, \"relative_numbers\")"
   ]
  },
  {
   "cell_type": "code",
   "execution_count": 39,
   "id": "c0e8f4ad",
   "metadata": {},
   "outputs": [],
   "source": [
    "relative_moral_agg = relative_moral.groupby([\"moral_label_w\"]).agg(\n",
    "    mean_rel_moral = (\"relative_numbers\", \"mean\")).round(decimals = 2)"
   ]
  },
  {
   "cell_type": "code",
   "execution_count": 40,
   "id": "e4b443a5",
   "metadata": {},
   "outputs": [
    {
     "data": {
      "image/png": "[encoded data removed]",
      "text/plain": [
       "<Figure size 640x480 with 1 Axes>"
      ]
     },
     "metadata": {},
     "output_type": "display_data"
    }
   ],
   "source": [
    "relative_moral_agg = relative_moral_agg.reset_index()\n",
    "\n",
    "# set plot style\n",
    "sns.set_style(\"whitegrid\")\n",
    "\n",
    "# create plot and store as object\n",
    "posts_moral_prevalence = sns.barplot(data = relative_moral_agg, x = \"moral_label_w\", y = \"mean_rel_moral\", \n",
    "                                      palette=\"pastel\")\n",
    "\n",
    "# specify plot labels & title \n",
    "plt.xlabel(\"Moral Frames\")\n",
    "plt.ylabel(\"Number of Titles\")\n",
    "plt.title(\"Relative Number of Moral and Neutral Frames in Reddit Post Titles\")\n",
    "\n",
    "# Add values to the bar plot\n",
    "posts_moral_prevalence.bar_label(posts_moral_prevalence.containers[0])\n",
    "\n",
    "#save to .png\n",
    "plt.savefig(\"posts_moral_prevalence.png\", bbox_inches=\"tight\")\n",
    "\n",
    "#show plot\n",
    "plt.show(posts_moral_prevalence)"
   ]
  },
  {
   "cell_type": "markdown",
   "id": "72910721",
   "metadata": {},
   "source": [
    "## Has the number of moral frames in Reddit posts changed over time?"
   ]
  },
  {
   "cell_type": "markdown",
   "id": "96befb72",
   "metadata": {},
   "source": [
    "### In absolute terms:"
   ]
  },
  {
   "cell_type": "code",
   "execution_count": 41,
   "id": "abc4b7a4",
   "metadata": {},
   "outputs": [],
   "source": [
    "# Sort by year in ascending order:\n",
    "allposts_time = allposts.sort_values(by=[\"year\"])"
   ]
  },
  {
   "cell_type": "code",
   "execution_count": 42,
   "id": "ff99c5b9",
   "metadata": {},
   "outputs": [],
   "source": [
    "allposts_time = allposts.groupby([\"year\", \"moral_label_w\"]).size().reset_index(name=\"count\")"
   ]
  },
  {
   "cell_type": "code",
   "execution_count": 43,
   "id": "45136a40",
   "metadata": {},
   "outputs": [
    {
     "data": {
      "image/png": "[encoded data removed]",
      "text/plain": [
       "<Figure size 640x480 with 1 Axes>"
      ]
     },
     "metadata": {},
     "output_type": "display_data"
    }
   ],
   "source": [
    "# set plot style: \n",
    "sns.set_style(\"whitegrid\") \n",
    "\n",
    "posts_yearly_prev = sns.barplot(x=\"year\", y=\"count\", hue=\"moral_label_w\", data=allposts_time, \n",
    "                               palette=\"pastel\")\n",
    "\n",
    "# specify plot labels & title \n",
    "plt.xlabel(\"Moral Frames\")\n",
    "plt.ylabel(\"Yearly Number of Titles Containing Moral Frames\")\n",
    "plt.title(\"Absolute Number of Moral and Neutral Frames in Reddit Post Titles\")\n",
    "\n",
    "#save to .png\n",
    "plt.savefig(\"prevalence_moralframes_yearly.png\", bbox_inches=\"tight\")\n",
    "\n",
    "#show plot\n",
    "plt.show(posts_yearly_prev)"
   ]
  },
  {
   "cell_type": "markdown",
   "id": "04145a92",
   "metadata": {},
   "source": [
    "### In relative terms:"
   ]
  },
  {
   "cell_type": "code",
   "execution_count": 44,
   "id": "7a674d92",
   "metadata": {},
   "outputs": [
    {
     "data": {
      "image/png": "[encoded data removed]",
      "text/plain": [
       "<Figure size 640x480 with 1 Axes>"
      ]
     },
     "metadata": {},
     "output_type": "display_data"
    }
   ],
   "source": [
    "# set plot style: \n",
    "sns.set_style(\"whitegrid\") \n",
    "\n",
    "posts_yearly_rel = sns.barplot(x=\"year\", y=\"relative_numbers\", hue=\"moral_label_w\", data=relative_moral, \n",
    "                              palette=\"pastel\")\n",
    "\n",
    "# specify plot labels & title \n",
    "plt.xlabel(\"Year\")\n",
    "plt.ylabel(\"Relative Number of Post Titles\")\n",
    "plt.title(\"Relative Number of Moral and Neutral Frames in Reddit Post Titles\")\n",
    "\n",
    "#save to .png\n",
    "plt.savefig(\"posts_yearly_rel.png\", bbox_inches=\"tight\")\n",
    "\n",
    "#show plot\n",
    "plt.show(posts_yearly_rel)"
   ]
  },
  {
   "cell_type": "markdown",
   "id": "30b2cadc",
   "metadata": {},
   "source": [
    "## How has the Relative Number of Affectively Polarised Language Developed Over Time?"
   ]
  },
  {
   "cell_type": "markdown",
   "id": "f670c4d2",
   "metadata": {},
   "source": [
    "Comments are only examined in relative terms, as they are nested within posts, which can have differing absolute numbers of comments."
   ]
  },
  {
   "cell_type": "code",
   "execution_count": 45,
   "id": "8818e610",
   "metadata": {},
   "outputs": [],
   "source": [
    "ap_post_year = posts_comments.groupby([\"post_id\", \"year\", \"AP_label_w\"]).size().reset_index(name=\"Count\")"
   ]
  },
  {
   "cell_type": "code",
   "execution_count": 46,
   "id": "3f70e02c",
   "metadata": {},
   "outputs": [],
   "source": [
    "total_ap_post_year = ap_post_year.groupby([\"year\", \"post_id\"])[\"Count\"].transform(lambda x: x.sum())"
   ]
  },
  {
   "cell_type": "code",
   "execution_count": 47,
   "id": "feefd0fd",
   "metadata": {},
   "outputs": [
    {
     "data": {
      "text/html": [
       "<div>\n",
       "<style scoped>\n",
       "    .dataframe tbody tr th:only-of-type {\n",
       "        vertical-align: middle;\n",
       "    }\n",
       "\n",
       "    .dataframe tbody tr th {\n",
       "        vertical-align: top;\n",
       "    }\n",
       "\n",
       "    .dataframe thead th {\n",
       "        text-align: right;\n",
       "    }\n",
       "</style>\n",
       "<table border=\"1\" class=\"dataframe\">\n",
       "  <thead>\n",
       "    <tr style=\"text-align: right;\">\n",
       "      <th></th>\n",
       "      <th>post_id</th>\n",
       "      <th>year</th>\n",
       "      <th>AP_label_w</th>\n",
       "      <th>Count</th>\n",
       "      <th>relative_number</th>\n",
       "    </tr>\n",
       "  </thead>\n",
       "  <tbody>\n",
       "    <tr>\n",
       "      <th>0</th>\n",
       "      <td>166new</td>\n",
       "      <td>2013</td>\n",
       "      <td>AP_markers</td>\n",
       "      <td>15</td>\n",
       "      <td>0.405405</td>\n",
       "    </tr>\n",
       "    <tr>\n",
       "      <th>1</th>\n",
       "      <td>166new</td>\n",
       "      <td>2013</td>\n",
       "      <td>Other</td>\n",
       "      <td>22</td>\n",
       "      <td>0.594595</td>\n",
       "    </tr>\n",
       "    <tr>\n",
       "      <th>2</th>\n",
       "      <td>1lkjlq</td>\n",
       "      <td>2013</td>\n",
       "      <td>AP_markers</td>\n",
       "      <td>32</td>\n",
       "      <td>0.395062</td>\n",
       "    </tr>\n",
       "    <tr>\n",
       "      <th>3</th>\n",
       "      <td>1lkjlq</td>\n",
       "      <td>2013</td>\n",
       "      <td>Other</td>\n",
       "      <td>49</td>\n",
       "      <td>0.604938</td>\n",
       "    </tr>\n",
       "    <tr>\n",
       "      <th>4</th>\n",
       "      <td>26d4s8</td>\n",
       "      <td>2014</td>\n",
       "      <td>AP_markers</td>\n",
       "      <td>15</td>\n",
       "      <td>0.312500</td>\n",
       "    </tr>\n",
       "    <tr>\n",
       "      <th>...</th>\n",
       "      <td>...</td>\n",
       "      <td>...</td>\n",
       "      <td>...</td>\n",
       "      <td>...</td>\n",
       "      <td>...</td>\n",
       "    </tr>\n",
       "    <tr>\n",
       "      <th>1662</th>\n",
       "      <td>zf28mm</td>\n",
       "      <td>2022</td>\n",
       "      <td>AP_markers</td>\n",
       "      <td>37</td>\n",
       "      <td>0.282443</td>\n",
       "    </tr>\n",
       "    <tr>\n",
       "      <th>1663</th>\n",
       "      <td>zf28mm</td>\n",
       "      <td>2022</td>\n",
       "      <td>Other</td>\n",
       "      <td>94</td>\n",
       "      <td>0.717557</td>\n",
       "    </tr>\n",
       "    <tr>\n",
       "      <th>1664</th>\n",
       "      <td>zf9rn7</td>\n",
       "      <td>2022</td>\n",
       "      <td>Other</td>\n",
       "      <td>1</td>\n",
       "      <td>1.000000</td>\n",
       "    </tr>\n",
       "    <tr>\n",
       "      <th>1665</th>\n",
       "      <td>zr4tbg</td>\n",
       "      <td>2022</td>\n",
       "      <td>AP_markers</td>\n",
       "      <td>2</td>\n",
       "      <td>0.400000</td>\n",
       "    </tr>\n",
       "    <tr>\n",
       "      <th>1666</th>\n",
       "      <td>zr4tbg</td>\n",
       "      <td>2022</td>\n",
       "      <td>Other</td>\n",
       "      <td>3</td>\n",
       "      <td>0.600000</td>\n",
       "    </tr>\n",
       "  </tbody>\n",
       "</table>\n",
       "<p>1667 rows × 5 columns</p>\n",
       "</div>"
      ],
      "text/plain": [
       "     post_id  year  AP_label_w  Count  relative_number\n",
       "0     166new  2013  AP_markers     15         0.405405\n",
       "1     166new  2013       Other     22         0.594595\n",
       "2     1lkjlq  2013  AP_markers     32         0.395062\n",
       "3     1lkjlq  2013       Other     49         0.604938\n",
       "4     26d4s8  2014  AP_markers     15         0.312500\n",
       "...      ...   ...         ...    ...              ...\n",
       "1662  zf28mm  2022  AP_markers     37         0.282443\n",
       "1663  zf28mm  2022       Other     94         0.717557\n",
       "1664  zf9rn7  2022       Other      1         1.000000\n",
       "1665  zr4tbg  2022  AP_markers      2         0.400000\n",
       "1666  zr4tbg  2022       Other      3         0.600000\n",
       "\n",
       "[1667 rows x 5 columns]"
      ]
     },
     "execution_count": 47,
     "metadata": {},
     "output_type": "execute_result"
    }
   ],
   "source": [
    "get_relative(ap_post_year, \"Count\", total_ap_post_year, \"relative_number\")"
   ]
  },
  {
   "cell_type": "code",
   "execution_count": 48,
   "id": "911e8ace",
   "metadata": {},
   "outputs": [
    {
     "data": {
      "image/png": "[encoded data removed]",
      "text/plain": [
       "<Figure size 640x480 with 1 Axes>"
      ]
     },
     "metadata": {},
     "output_type": "display_data"
    }
   ],
   "source": [
    "# set plot style: \n",
    "sns.set_style(\"whitegrid\") \n",
    "\n",
    "rel_com_y = sns.lineplot(x=\"year\", y=\"relative_number\", hue=\"AP_label_w\", data=ap_post_year, \n",
    "                        palette=\"pastel\")\n",
    "\n",
    "# specify plot labels & title \n",
    "plt.xlabel(\"Year\")\n",
    "plt.ylabel(\"Relative Number of Comments per Posts per Year\")\n",
    "plt.title(\"Relative Number of AP Comments per Post per Year\")\n",
    "\n",
    "#save to .png\n",
    "plt.savefig(\"rel_com_y.png\", bbox_inches=\"tight\")\n",
    "\n",
    "#show plot\n",
    "plt.show(rel_com_y)"
   ]
  },
  {
   "cell_type": "markdown",
   "id": "2e7c28e0",
   "metadata": {},
   "source": [
    "## Are there overall differences in affectively polarised language between posts that are framed neutrally, and posts that contain moral framing about Immigration?"
   ]
  },
  {
   "cell_type": "code",
   "execution_count": 49,
   "id": "f4449627",
   "metadata": {},
   "outputs": [],
   "source": [
    "#Group by post ID, moral framing of posts & AP indicators in comments to get the absolute count of\n",
    "# comments containing AP markers vs. those that don't per post, as well as the moral frames of the posts.\n",
    "ap_post_overall = posts_comments.groupby([\"post_id\", \"moral_label_w\", \"AP_label\"]).size().reset_index(name=\"Count\")"
   ]
  },
  {
   "cell_type": "code",
   "execution_count": 50,
   "id": "50b70827",
   "metadata": {},
   "outputs": [],
   "source": [
    "#Group by post_id to get absolute numbers of comments per post\n",
    "total_count = ap_post_overall.groupby([\"post_id\"])[\"Count\"].transform(lambda x: x.sum())"
   ]
  },
  {
   "cell_type": "code",
   "execution_count": 51,
   "id": "568ac8d6",
   "metadata": {},
   "outputs": [
    {
     "data": {
      "text/html": [
       "<div>\n",
       "<style scoped>\n",
       "    .dataframe tbody tr th:only-of-type {\n",
       "        vertical-align: middle;\n",
       "    }\n",
       "\n",
       "    .dataframe tbody tr th {\n",
       "        vertical-align: top;\n",
       "    }\n",
       "\n",
       "    .dataframe thead th {\n",
       "        text-align: right;\n",
       "    }\n",
       "</style>\n",
       "<table border=\"1\" class=\"dataframe\">\n",
       "  <thead>\n",
       "    <tr style=\"text-align: right;\">\n",
       "      <th></th>\n",
       "      <th>post_id</th>\n",
       "      <th>moral_label_w</th>\n",
       "      <th>AP_label</th>\n",
       "      <th>Count</th>\n",
       "      <th>relative_number_comments</th>\n",
       "    </tr>\n",
       "  </thead>\n",
       "  <tbody>\n",
       "    <tr>\n",
       "      <th>0</th>\n",
       "      <td>166new</td>\n",
       "      <td>Neutral</td>\n",
       "      <td>0</td>\n",
       "      <td>22</td>\n",
       "      <td>0.594595</td>\n",
       "    </tr>\n",
       "    <tr>\n",
       "      <th>1</th>\n",
       "      <td>166new</td>\n",
       "      <td>Neutral</td>\n",
       "      <td>1</td>\n",
       "      <td>15</td>\n",
       "      <td>0.405405</td>\n",
       "    </tr>\n",
       "    <tr>\n",
       "      <th>2</th>\n",
       "      <td>1lkjlq</td>\n",
       "      <td>Moralised</td>\n",
       "      <td>0</td>\n",
       "      <td>49</td>\n",
       "      <td>0.604938</td>\n",
       "    </tr>\n",
       "    <tr>\n",
       "      <th>3</th>\n",
       "      <td>1lkjlq</td>\n",
       "      <td>Moralised</td>\n",
       "      <td>1</td>\n",
       "      <td>32</td>\n",
       "      <td>0.395062</td>\n",
       "    </tr>\n",
       "    <tr>\n",
       "      <th>4</th>\n",
       "      <td>26d4s8</td>\n",
       "      <td>Moralised</td>\n",
       "      <td>0</td>\n",
       "      <td>33</td>\n",
       "      <td>0.687500</td>\n",
       "    </tr>\n",
       "    <tr>\n",
       "      <th>...</th>\n",
       "      <td>...</td>\n",
       "      <td>...</td>\n",
       "      <td>...</td>\n",
       "      <td>...</td>\n",
       "      <td>...</td>\n",
       "    </tr>\n",
       "    <tr>\n",
       "      <th>1662</th>\n",
       "      <td>zf28mm</td>\n",
       "      <td>Neutral</td>\n",
       "      <td>0</td>\n",
       "      <td>94</td>\n",
       "      <td>0.717557</td>\n",
       "    </tr>\n",
       "    <tr>\n",
       "      <th>1663</th>\n",
       "      <td>zf28mm</td>\n",
       "      <td>Neutral</td>\n",
       "      <td>1</td>\n",
       "      <td>37</td>\n",
       "      <td>0.282443</td>\n",
       "    </tr>\n",
       "    <tr>\n",
       "      <th>1664</th>\n",
       "      <td>zf9rn7</td>\n",
       "      <td>Moralised</td>\n",
       "      <td>0</td>\n",
       "      <td>1</td>\n",
       "      <td>1.000000</td>\n",
       "    </tr>\n",
       "    <tr>\n",
       "      <th>1665</th>\n",
       "      <td>zr4tbg</td>\n",
       "      <td>Neutral</td>\n",
       "      <td>0</td>\n",
       "      <td>3</td>\n",
       "      <td>0.600000</td>\n",
       "    </tr>\n",
       "    <tr>\n",
       "      <th>1666</th>\n",
       "      <td>zr4tbg</td>\n",
       "      <td>Neutral</td>\n",
       "      <td>1</td>\n",
       "      <td>2</td>\n",
       "      <td>0.400000</td>\n",
       "    </tr>\n",
       "  </tbody>\n",
       "</table>\n",
       "<p>1667 rows × 5 columns</p>\n",
       "</div>"
      ],
      "text/plain": [
       "     post_id moral_label_w  AP_label  Count  relative_number_comments\n",
       "0     166new       Neutral         0     22                  0.594595\n",
       "1     166new       Neutral         1     15                  0.405405\n",
       "2     1lkjlq     Moralised         0     49                  0.604938\n",
       "3     1lkjlq     Moralised         1     32                  0.395062\n",
       "4     26d4s8     Moralised         0     33                  0.687500\n",
       "...      ...           ...       ...    ...                       ...\n",
       "1662  zf28mm       Neutral         0     94                  0.717557\n",
       "1663  zf28mm       Neutral         1     37                  0.282443\n",
       "1664  zf9rn7     Moralised         0      1                  1.000000\n",
       "1665  zr4tbg       Neutral         0      3                  0.600000\n",
       "1666  zr4tbg       Neutral         1      2                  0.400000\n",
       "\n",
       "[1667 rows x 5 columns]"
      ]
     },
     "execution_count": 51,
     "metadata": {},
     "output_type": "execute_result"
    }
   ],
   "source": [
    "# compute relative frequency of AP categories per post\n",
    "get_relative(ap_post_overall, \"Count\", total_count, \"relative_number_comments\")"
   ]
  },
  {
   "cell_type": "markdown",
   "id": "e173b284",
   "metadata": {},
   "source": [
    "### T-Test:"
   ]
  },
  {
   "cell_type": "code",
   "execution_count": 52,
   "id": "e9a43f4c",
   "metadata": {},
   "outputs": [],
   "source": [
    "ap_test = posts_comments.groupby([\"post_id\", \"moral_label\", \"AP_label\"]).size().reset_index(name=\"Count\")"
   ]
  },
  {
   "cell_type": "code",
   "execution_count": 53,
   "id": "d558766a",
   "metadata": {},
   "outputs": [],
   "source": [
    "#Group by post_id to get absolute numbers of comments per post\n",
    "total_count = ap_test.groupby([\"post_id\"])[\"Count\"].transform(lambda x: x.sum())"
   ]
  },
  {
   "cell_type": "code",
   "execution_count": 54,
   "id": "c6b9c912",
   "metadata": {},
   "outputs": [
    {
     "data": {
      "text/html": [
       "<div>\n",
       "<style scoped>\n",
       "    .dataframe tbody tr th:only-of-type {\n",
       "        vertical-align: middle;\n",
       "    }\n",
       "\n",
       "    .dataframe tbody tr th {\n",
       "        vertical-align: top;\n",
       "    }\n",
       "\n",
       "    .dataframe thead th {\n",
       "        text-align: right;\n",
       "    }\n",
       "</style>\n",
       "<table border=\"1\" class=\"dataframe\">\n",
       "  <thead>\n",
       "    <tr style=\"text-align: right;\">\n",
       "      <th></th>\n",
       "      <th>post_id</th>\n",
       "      <th>moral_label</th>\n",
       "      <th>AP_label</th>\n",
       "      <th>Count</th>\n",
       "      <th>relative_number_comments</th>\n",
       "    </tr>\n",
       "  </thead>\n",
       "  <tbody>\n",
       "    <tr>\n",
       "      <th>0</th>\n",
       "      <td>166new</td>\n",
       "      <td>0.0</td>\n",
       "      <td>0</td>\n",
       "      <td>22</td>\n",
       "      <td>0.594595</td>\n",
       "    </tr>\n",
       "    <tr>\n",
       "      <th>1</th>\n",
       "      <td>166new</td>\n",
       "      <td>0.0</td>\n",
       "      <td>1</td>\n",
       "      <td>15</td>\n",
       "      <td>0.405405</td>\n",
       "    </tr>\n",
       "    <tr>\n",
       "      <th>2</th>\n",
       "      <td>1lkjlq</td>\n",
       "      <td>1.0</td>\n",
       "      <td>0</td>\n",
       "      <td>49</td>\n",
       "      <td>0.604938</td>\n",
       "    </tr>\n",
       "    <tr>\n",
       "      <th>3</th>\n",
       "      <td>1lkjlq</td>\n",
       "      <td>1.0</td>\n",
       "      <td>1</td>\n",
       "      <td>32</td>\n",
       "      <td>0.395062</td>\n",
       "    </tr>\n",
       "    <tr>\n",
       "      <th>4</th>\n",
       "      <td>26d4s8</td>\n",
       "      <td>1.0</td>\n",
       "      <td>0</td>\n",
       "      <td>33</td>\n",
       "      <td>0.687500</td>\n",
       "    </tr>\n",
       "    <tr>\n",
       "      <th>...</th>\n",
       "      <td>...</td>\n",
       "      <td>...</td>\n",
       "      <td>...</td>\n",
       "      <td>...</td>\n",
       "      <td>...</td>\n",
       "    </tr>\n",
       "    <tr>\n",
       "      <th>1662</th>\n",
       "      <td>zf28mm</td>\n",
       "      <td>0.0</td>\n",
       "      <td>0</td>\n",
       "      <td>94</td>\n",
       "      <td>0.717557</td>\n",
       "    </tr>\n",
       "    <tr>\n",
       "      <th>1663</th>\n",
       "      <td>zf28mm</td>\n",
       "      <td>0.0</td>\n",
       "      <td>1</td>\n",
       "      <td>37</td>\n",
       "      <td>0.282443</td>\n",
       "    </tr>\n",
       "    <tr>\n",
       "      <th>1664</th>\n",
       "      <td>zf9rn7</td>\n",
       "      <td>1.0</td>\n",
       "      <td>0</td>\n",
       "      <td>1</td>\n",
       "      <td>1.000000</td>\n",
       "    </tr>\n",
       "    <tr>\n",
       "      <th>1665</th>\n",
       "      <td>zr4tbg</td>\n",
       "      <td>0.0</td>\n",
       "      <td>0</td>\n",
       "      <td>3</td>\n",
       "      <td>0.600000</td>\n",
       "    </tr>\n",
       "    <tr>\n",
       "      <th>1666</th>\n",
       "      <td>zr4tbg</td>\n",
       "      <td>0.0</td>\n",
       "      <td>1</td>\n",
       "      <td>2</td>\n",
       "      <td>0.400000</td>\n",
       "    </tr>\n",
       "  </tbody>\n",
       "</table>\n",
       "<p>1667 rows × 5 columns</p>\n",
       "</div>"
      ],
      "text/plain": [
       "     post_id  moral_label  AP_label  Count  relative_number_comments\n",
       "0     166new          0.0         0     22                  0.594595\n",
       "1     166new          0.0         1     15                  0.405405\n",
       "2     1lkjlq          1.0         0     49                  0.604938\n",
       "3     1lkjlq          1.0         1     32                  0.395062\n",
       "4     26d4s8          1.0         0     33                  0.687500\n",
       "...      ...          ...       ...    ...                       ...\n",
       "1662  zf28mm          0.0         0     94                  0.717557\n",
       "1663  zf28mm          0.0         1     37                  0.282443\n",
       "1664  zf9rn7          1.0         0      1                  1.000000\n",
       "1665  zr4tbg          0.0         0      3                  0.600000\n",
       "1666  zr4tbg          0.0         1      2                  0.400000\n",
       "\n",
       "[1667 rows x 5 columns]"
      ]
     },
     "execution_count": 54,
     "metadata": {},
     "output_type": "execute_result"
    }
   ],
   "source": [
    "# compute relative frequency of AP categories per post\n",
    "get_relative(ap_test, \"Count\", total_count, \"relative_number_comments\")"
   ]
  },
  {
   "cell_type": "code",
   "execution_count": 55,
   "id": "2010c683",
   "metadata": {},
   "outputs": [],
   "source": [
    "apt = ap_test[ap_test[\"AP_label\"] == 1]"
   ]
  },
  {
   "cell_type": "code",
   "execution_count": 56,
   "id": "40c8108c",
   "metadata": {},
   "outputs": [
    {
     "data": {
      "text/plain": [
       "Ttest_indResult(statistic=0.09578611931111038, pvalue=0.9237189984226456)"
      ]
     },
     "execution_count": 56,
     "metadata": {},
     "output_type": "execute_result"
    }
   ],
   "source": [
    "# import stats\n",
    "stats.ttest_ind(apt[\"relative_number_comments\"][apt[\"moral_label\"] == 0.0],\n",
    "                apt[\"relative_number_comments\"][apt[\"moral_label\"] == 1.0])"
   ]
  },
  {
   "cell_type": "code",
   "execution_count": 57,
   "id": "6c9ef927",
   "metadata": {},
   "outputs": [],
   "source": [
    "ap_post_overall_val = ap_post_overall.loc[ap_post_overall.AP_label==1].groupby([\"moral_label_w\"]).agg(\n",
    "    mean_rel_AP = (\n",
    "    \"relative_number_comments\", \"mean\"),\n",
    "    std_rel_AP = (\"relative_number_comments\", \"std\")).round(decimals=3)"
   ]
  },
  {
   "cell_type": "code",
   "execution_count": 58,
   "id": "41a81675",
   "metadata": {},
   "outputs": [
    {
     "data": {
      "text/html": [
       "<div>\n",
       "<style scoped>\n",
       "    .dataframe tbody tr th:only-of-type {\n",
       "        vertical-align: middle;\n",
       "    }\n",
       "\n",
       "    .dataframe tbody tr th {\n",
       "        vertical-align: top;\n",
       "    }\n",
       "\n",
       "    .dataframe thead th {\n",
       "        text-align: right;\n",
       "    }\n",
       "</style>\n",
       "<table border=\"1\" class=\"dataframe\">\n",
       "  <thead>\n",
       "    <tr style=\"text-align: right;\">\n",
       "      <th></th>\n",
       "      <th>mean_rel_AP</th>\n",
       "      <th>std_rel_AP</th>\n",
       "    </tr>\n",
       "    <tr>\n",
       "      <th>moral_label_w</th>\n",
       "      <th></th>\n",
       "      <th></th>\n",
       "    </tr>\n",
       "  </thead>\n",
       "  <tbody>\n",
       "    <tr>\n",
       "      <th>Moralised</th>\n",
       "      <td>0.417</td>\n",
       "      <td>0.237</td>\n",
       "    </tr>\n",
       "    <tr>\n",
       "      <th>Neutral</th>\n",
       "      <td>0.419</td>\n",
       "      <td>0.264</td>\n",
       "    </tr>\n",
       "  </tbody>\n",
       "</table>\n",
       "</div>"
      ],
      "text/plain": [
       "               mean_rel_AP  std_rel_AP\n",
       "moral_label_w                         \n",
       "Moralised            0.417       0.237\n",
       "Neutral              0.419       0.264"
      ]
     },
     "execution_count": 58,
     "metadata": {},
     "output_type": "execute_result"
    }
   ],
   "source": [
    "ap_post_overall_val"
   ]
  },
  {
   "cell_type": "markdown",
   "id": "05c47215",
   "metadata": {},
   "source": [
    "No significant difference was found in the relative prevalence of language containing indicators of affective polarisation between moral (M=0.42, SD=.24) and neutral posts (M=0.42, SD=.26)"
   ]
  },
  {
   "cell_type": "markdown",
   "id": "14baa438",
   "metadata": {},
   "source": [
    "### Visualising the result:"
   ]
  },
  {
   "cell_type": "code",
   "execution_count": 59,
   "id": "eefe094f",
   "metadata": {},
   "outputs": [
    {
     "data": {
      "image/png": "[encoded data removed]",
      "text/plain": [
       "<Figure size 640x480 with 1 Axes>"
      ]
     },
     "metadata": {},
     "output_type": "display_data"
    }
   ],
   "source": [
    "ap_post_overall_val = ap_post_overall_val.reset_index()\n",
    "\n",
    "# set plot style: \n",
    "sns.set_style(\"whitegrid\") \n",
    "\n",
    "ap_post_overall_plot = sns.barplot(data=ap_post_overall_val, x=\"moral_label_w\", y=\"mean_rel_AP\", \n",
    "                                  palette=\"pastel\")\n",
    "\n",
    "# Add values to the bar plot\n",
    "ap_post_overall_plot.bar_label(ap_post_overall_plot.containers[0])\n",
    "\n",
    "# specify plot labels & title \n",
    "plt.xlabel(\"Moral Framing of Posts\")\n",
    "plt.ylabel(\"Average Relative Frequency of AP Language\")\n",
    "plt.title(\"Average Relative Frequency of AP Language in Moral vs. Neutrally Framed Posts\")\n",
    "\n",
    "#save to .png\n",
    "plt.savefig(\"ap_post_overall_plot.png\", bbox_inches=\"tight\")\n",
    "\n",
    "#show plot\n",
    "plt.show(ap_post_overall_plot)"
   ]
  },
  {
   "cell_type": "markdown",
   "id": "f2807ba4",
   "metadata": {},
   "source": [
    "### Over-time development of differences in affectively polarised language between posts that are framed neutrally, and posts that contain moral framing about Immigration"
   ]
  },
  {
   "cell_type": "code",
   "execution_count": 60,
   "id": "00079bc6",
   "metadata": {},
   "outputs": [],
   "source": [
    "#Group by post ID, moral framing of posts & AP indicators in comments to get the absolute count of\n",
    "# comments containing AP markers vs. those that don't per post, as well as the moral frames of the posts.\n",
    "ap_post_YY = posts_comments.groupby([\"year\", \"post_id\", \"moral_label_w\", \"AP_label\"]).size().reset_index(name=\"Count\")"
   ]
  },
  {
   "cell_type": "code",
   "execution_count": 61,
   "id": "4c1d0ab5",
   "metadata": {},
   "outputs": [],
   "source": [
    "#Group by post_id to get absolute numbers of comments per post\n",
    "#ap_post_YY[\"absolute_comments\"] = ap_post_YY.groupby([\"post_id\"])[\"Count\"].transform(lambda x: x.sum())\n",
    "total_count = ap_post_YY.groupby([\"post_id\"])[\"Count\"].transform(lambda x: x.sum())"
   ]
  },
  {
   "cell_type": "code",
   "execution_count": 62,
   "id": "42a2c81a",
   "metadata": {},
   "outputs": [
    {
     "data": {
      "text/html": [
       "<div>\n",
       "<style scoped>\n",
       "    .dataframe tbody tr th:only-of-type {\n",
       "        vertical-align: middle;\n",
       "    }\n",
       "\n",
       "    .dataframe tbody tr th {\n",
       "        vertical-align: top;\n",
       "    }\n",
       "\n",
       "    .dataframe thead th {\n",
       "        text-align: right;\n",
       "    }\n",
       "</style>\n",
       "<table border=\"1\" class=\"dataframe\">\n",
       "  <thead>\n",
       "    <tr style=\"text-align: right;\">\n",
       "      <th></th>\n",
       "      <th>year</th>\n",
       "      <th>post_id</th>\n",
       "      <th>moral_label_w</th>\n",
       "      <th>AP_label</th>\n",
       "      <th>Count</th>\n",
       "      <th>relative_number_comments</th>\n",
       "    </tr>\n",
       "  </thead>\n",
       "  <tbody>\n",
       "    <tr>\n",
       "      <th>0</th>\n",
       "      <td>2011</td>\n",
       "      <td>flgxp</td>\n",
       "      <td>Moralised</td>\n",
       "      <td>0</td>\n",
       "      <td>50</td>\n",
       "      <td>0.806452</td>\n",
       "    </tr>\n",
       "    <tr>\n",
       "      <th>1</th>\n",
       "      <td>2011</td>\n",
       "      <td>flgxp</td>\n",
       "      <td>Moralised</td>\n",
       "      <td>1</td>\n",
       "      <td>12</td>\n",
       "      <td>0.193548</td>\n",
       "    </tr>\n",
       "    <tr>\n",
       "      <th>2</th>\n",
       "      <td>2012</td>\n",
       "      <td>v3ep3</td>\n",
       "      <td>Moralised</td>\n",
       "      <td>0</td>\n",
       "      <td>21</td>\n",
       "      <td>0.567568</td>\n",
       "    </tr>\n",
       "    <tr>\n",
       "      <th>3</th>\n",
       "      <td>2012</td>\n",
       "      <td>v3ep3</td>\n",
       "      <td>Moralised</td>\n",
       "      <td>1</td>\n",
       "      <td>16</td>\n",
       "      <td>0.432432</td>\n",
       "    </tr>\n",
       "    <tr>\n",
       "      <th>4</th>\n",
       "      <td>2013</td>\n",
       "      <td>166new</td>\n",
       "      <td>Neutral</td>\n",
       "      <td>0</td>\n",
       "      <td>22</td>\n",
       "      <td>0.594595</td>\n",
       "    </tr>\n",
       "    <tr>\n",
       "      <th>...</th>\n",
       "      <td>...</td>\n",
       "      <td>...</td>\n",
       "      <td>...</td>\n",
       "      <td>...</td>\n",
       "      <td>...</td>\n",
       "      <td>...</td>\n",
       "    </tr>\n",
       "    <tr>\n",
       "      <th>1662</th>\n",
       "      <td>2022</td>\n",
       "      <td>zf28mm</td>\n",
       "      <td>Neutral</td>\n",
       "      <td>0</td>\n",
       "      <td>94</td>\n",
       "      <td>0.717557</td>\n",
       "    </tr>\n",
       "    <tr>\n",
       "      <th>1663</th>\n",
       "      <td>2022</td>\n",
       "      <td>zf28mm</td>\n",
       "      <td>Neutral</td>\n",
       "      <td>1</td>\n",
       "      <td>37</td>\n",
       "      <td>0.282443</td>\n",
       "    </tr>\n",
       "    <tr>\n",
       "      <th>1664</th>\n",
       "      <td>2022</td>\n",
       "      <td>zf9rn7</td>\n",
       "      <td>Moralised</td>\n",
       "      <td>0</td>\n",
       "      <td>1</td>\n",
       "      <td>1.000000</td>\n",
       "    </tr>\n",
       "    <tr>\n",
       "      <th>1665</th>\n",
       "      <td>2022</td>\n",
       "      <td>zr4tbg</td>\n",
       "      <td>Neutral</td>\n",
       "      <td>0</td>\n",
       "      <td>3</td>\n",
       "      <td>0.600000</td>\n",
       "    </tr>\n",
       "    <tr>\n",
       "      <th>1666</th>\n",
       "      <td>2022</td>\n",
       "      <td>zr4tbg</td>\n",
       "      <td>Neutral</td>\n",
       "      <td>1</td>\n",
       "      <td>2</td>\n",
       "      <td>0.400000</td>\n",
       "    </tr>\n",
       "  </tbody>\n",
       "</table>\n",
       "<p>1667 rows × 6 columns</p>\n",
       "</div>"
      ],
      "text/plain": [
       "      year post_id moral_label_w  AP_label  Count  relative_number_comments\n",
       "0     2011   flgxp     Moralised         0     50                  0.806452\n",
       "1     2011   flgxp     Moralised         1     12                  0.193548\n",
       "2     2012   v3ep3     Moralised         0     21                  0.567568\n",
       "3     2012   v3ep3     Moralised         1     16                  0.432432\n",
       "4     2013  166new       Neutral         0     22                  0.594595\n",
       "...    ...     ...           ...       ...    ...                       ...\n",
       "1662  2022  zf28mm       Neutral         0     94                  0.717557\n",
       "1663  2022  zf28mm       Neutral         1     37                  0.282443\n",
       "1664  2022  zf9rn7     Moralised         0      1                  1.000000\n",
       "1665  2022  zr4tbg       Neutral         0      3                  0.600000\n",
       "1666  2022  zr4tbg       Neutral         1      2                  0.400000\n",
       "\n",
       "[1667 rows x 6 columns]"
      ]
     },
     "execution_count": 62,
     "metadata": {},
     "output_type": "execute_result"
    }
   ],
   "source": [
    "get_relative(ap_post_YY, \"Count\", total_count, \"relative_number_comments\")"
   ]
  },
  {
   "cell_type": "code",
   "execution_count": 63,
   "id": "40bcb291",
   "metadata": {},
   "outputs": [],
   "source": [
    "ap_post_YY = ap_post_YY.loc[ap_post_YY.AP_label==1].groupby(\n",
    "    [\"year\", \"moral_label_w\"]).agg(\n",
    "    mean_rel_AP = (\n",
    "    \"relative_number_comments\", \"mean\"))"
   ]
  },
  {
   "cell_type": "code",
   "execution_count": 64,
   "id": "44aea7a7",
   "metadata": {},
   "outputs": [
    {
     "data": {
      "image/png": "[encoded data removed]",
      "text/plain": [
       "<Figure size 640x480 with 1 Axes>"
      ]
     },
     "metadata": {},
     "output_type": "display_data"
    }
   ],
   "source": [
    "ap_post_YY = ap_post_YY.reset_index()\n",
    "\n",
    "# set plot style: \n",
    "sns.set_style(\"whitegrid\") \n",
    "\n",
    "ap_post_YY_plot = sns.lineplot(data=ap_post_YY, x=\"year\", y=\"mean_rel_AP\", hue=\"moral_label_w\", \n",
    "                              palette=\"pastel\")\n",
    "\n",
    "# specify plot labels & title \n",
    "plt.xlabel(\"Year\")\n",
    "plt.ylabel(\"Average Relative Frequency of AP Language\")\n",
    "plt.title(\"Average Relative Frequency of AP Language in Moral vs. Neutrally Framed Posts\")\n",
    "\n",
    "#save to .png\n",
    "plt.savefig(\"ap_post_YY_plot.png\", bbox_inches=\"tight\")\n",
    "\n",
    "#show plot\n",
    "plt.show(ap_post_YY_plot)"
   ]
  },
  {
   "cell_type": "markdown",
   "id": "d797dbf2",
   "metadata": {},
   "source": [
    "# Training & Validation Loss Curves from the BERT Models"
   ]
  },
  {
   "cell_type": "markdown",
   "id": "9ed11c99",
   "metadata": {},
   "source": [
    "## Moral Bert:"
   ]
  },
  {
   "cell_type": "markdown",
   "id": "947e2385",
   "metadata": {},
   "source": [
    "#### Five Epochs:"
   ]
  },
  {
   "cell_type": "code",
   "execution_count": 65,
   "id": "4d1fbcc6",
   "metadata": {},
   "outputs": [],
   "source": [
    "#(FROM FINAL RUN MORAL BERT)\n",
    "# These had to be hand coded because I was unable to get extract the individual values.\n",
    "training_loss = [0.6104, 0.5135, 0.5477, 0.4778, \n",
    "                0.3510, 0.3597,0.3383, 0.238100,\n",
    "                0.1420, 0.1840, 0.4010, 0.14460, \n",
    "                0.1049, 0.22360, 0.0801, 0.0035, \n",
    "                0.0582, 0.0420]\n",
    "\n",
    "validation_loss = [0.579096, 0.548197, 0.507165, \n",
    "                  0.465717, 0.460456, 0.509234, \n",
    "                  0.681263, 0.772730, 0.843409, \n",
    "                  0.838558, 0.713522, 0.727510, \n",
    "                  1.055032, 0.855415, 0.852997, \n",
    "                  0.908388, 0.925053, 0.930002]\n",
    "\n",
    "steps = [20, 40, 60, 80, 100, 120, 140, 160, 180, \n",
    "        200, 220, 240, 260, 280, 300, 320, 340, \n",
    "        360]\n",
    "\n",
    "f1 = [0.333333, 0.463043, 0.430363, 0.766985, 0.715680,\n",
    "     0.696950, 0.664268, 0.708116, 0.777667, 0.760963, \n",
    "     0.743461, 0.744007, 0.627503, 0.727479, 0.717798, \n",
    "     0.721029, 0.721029, 0.721029]"
   ]
  },
  {
   "cell_type": "code",
   "execution_count": 66,
   "id": "f6c03f73",
   "metadata": {},
   "outputs": [],
   "source": [
    "moral_bert = pd.DataFrame({'training_loss':training_loss, 'validation_loss':validation_loss,\n",
    "                          'steps':steps, 'f1':f1})"
   ]
  },
  {
   "cell_type": "code",
   "execution_count": 67,
   "id": "07565901",
   "metadata": {},
   "outputs": [],
   "source": [
    "moral_bert=moral_bert.melt(id_vars = \"steps\",\n",
    "                            var_name = \"category\", \n",
    "                            value_name = \"value\")"
   ]
  },
  {
   "cell_type": "code",
   "execution_count": 68,
   "id": "f6635744",
   "metadata": {},
   "outputs": [],
   "source": [
    "moral_bert_sorted = moral_bert.sort_values(by='steps')"
   ]
  },
  {
   "cell_type": "code",
   "execution_count": 69,
   "id": "c7bc9037",
   "metadata": {},
   "outputs": [
    {
     "data": {
      "text/plain": [
       "<seaborn.axisgrid.FacetGrid at 0x129daee10>"
      ]
     },
     "execution_count": 69,
     "metadata": {},
     "output_type": "execute_result"
    },
    {
     "data": {
      "image/png": "[encoded data removed]",
      "text/plain": [
       "<Figure size 641.375x500 with 1 Axes>"
      ]
     },
     "metadata": {},
     "output_type": "display_data"
    }
   ],
   "source": [
    "sns.set_style(\"whitegrid\") \n",
    "sns.relplot(moral_bert_sorted, x=\"steps\", y = \"value\", hue=\"category\", kind=\"line\", \n",
    "           palette = \"pastel\")"
   ]
  },
  {
   "cell_type": "markdown",
   "id": "d41c7557",
   "metadata": {},
   "source": [
    "Setting the training epochs to 5, from this graph it becomes clear that the moralisation model begins overfitting much earlier, at around step 80. Therefore, the step cutoff point for the final model was set to 2. "
   ]
  },
  {
   "cell_type": "markdown",
   "id": "b991cdd1",
   "metadata": {},
   "source": [
    "#### Two Epochs:"
   ]
  },
  {
   "cell_type": "code",
   "execution_count": 70,
   "id": "16bada66",
   "metadata": {},
   "outputs": [],
   "source": [
    "# FROM FINAL COMM MORAL BERT\n",
    "training_loss = [0.628000, 0.503600, 0.552000, \n",
    "                0.516800, 0.388100, 0.347600, \n",
    "                0.318600]\n",
    "\n",
    "validation_loss = [0.547965, 0.488165, 0.493076, \n",
    "                  0.450124, 0.534255, 0.433551, \n",
    "                  0.429269]\n",
    "\n",
    "steps = [20, 40, 60, 80, 100, 120, 140]\n",
    "\n",
    "\n",
    "f1 = [0.333333, 0.582995, 0.591043, 0.657204, \n",
    "     0.529983, 0.685359, 0.649333]"
   ]
  },
  {
   "cell_type": "code",
   "execution_count": 71,
   "id": "b7b15ac6",
   "metadata": {},
   "outputs": [],
   "source": [
    "moral_bert_RE = pd.DataFrame({'training_loss':training_loss, 'validation_loss':validation_loss,\n",
    "                          'steps':steps, 'f1':f1})"
   ]
  },
  {
   "cell_type": "code",
   "execution_count": 72,
   "id": "24e2f581",
   "metadata": {},
   "outputs": [
    {
     "data": {
      "text/html": [
       "<div>\n",
       "<style scoped>\n",
       "    .dataframe tbody tr th:only-of-type {\n",
       "        vertical-align: middle;\n",
       "    }\n",
       "\n",
       "    .dataframe tbody tr th {\n",
       "        vertical-align: top;\n",
       "    }\n",
       "\n",
       "    .dataframe thead th {\n",
       "        text-align: right;\n",
       "    }\n",
       "</style>\n",
       "<table border=\"1\" class=\"dataframe\">\n",
       "  <thead>\n",
       "    <tr style=\"text-align: right;\">\n",
       "      <th></th>\n",
       "      <th>training_loss</th>\n",
       "      <th>validation_loss</th>\n",
       "      <th>steps</th>\n",
       "      <th>f1</th>\n",
       "    </tr>\n",
       "  </thead>\n",
       "  <tbody>\n",
       "    <tr>\n",
       "      <th>0</th>\n",
       "      <td>0.6280</td>\n",
       "      <td>0.547965</td>\n",
       "      <td>20</td>\n",
       "      <td>0.333333</td>\n",
       "    </tr>\n",
       "    <tr>\n",
       "      <th>1</th>\n",
       "      <td>0.5036</td>\n",
       "      <td>0.488165</td>\n",
       "      <td>40</td>\n",
       "      <td>0.582995</td>\n",
       "    </tr>\n",
       "    <tr>\n",
       "      <th>2</th>\n",
       "      <td>0.5520</td>\n",
       "      <td>0.493076</td>\n",
       "      <td>60</td>\n",
       "      <td>0.591043</td>\n",
       "    </tr>\n",
       "    <tr>\n",
       "      <th>3</th>\n",
       "      <td>0.5168</td>\n",
       "      <td>0.450124</td>\n",
       "      <td>80</td>\n",
       "      <td>0.657204</td>\n",
       "    </tr>\n",
       "    <tr>\n",
       "      <th>4</th>\n",
       "      <td>0.3881</td>\n",
       "      <td>0.534255</td>\n",
       "      <td>100</td>\n",
       "      <td>0.529983</td>\n",
       "    </tr>\n",
       "  </tbody>\n",
       "</table>\n",
       "</div>"
      ],
      "text/plain": [
       "   training_loss  validation_loss  steps        f1\n",
       "0         0.6280         0.547965     20  0.333333\n",
       "1         0.5036         0.488165     40  0.582995\n",
       "2         0.5520         0.493076     60  0.591043\n",
       "3         0.5168         0.450124     80  0.657204\n",
       "4         0.3881         0.534255    100  0.529983"
      ]
     },
     "execution_count": 72,
     "metadata": {},
     "output_type": "execute_result"
    }
   ],
   "source": [
    "moral_bert_RE.head()"
   ]
  },
  {
   "cell_type": "code",
   "execution_count": 73,
   "id": "58c944b4",
   "metadata": {},
   "outputs": [],
   "source": [
    "moral_bert_RE=moral_bert_RE.melt(id_vars = \"steps\",\n",
    "                            var_name = \"category\", \n",
    "                            value_name = \"value\")"
   ]
  },
  {
   "cell_type": "code",
   "execution_count": 74,
   "id": "5264ed04",
   "metadata": {},
   "outputs": [],
   "source": [
    "moral_bert_RE_sorted = moral_bert_RE.sort_values(by='steps')"
   ]
  },
  {
   "cell_type": "code",
   "execution_count": 75,
   "id": "45248ae0",
   "metadata": {},
   "outputs": [
    {
     "data": {
      "text/plain": [
       "<seaborn.axisgrid.FacetGrid at 0x12a636e10>"
      ]
     },
     "execution_count": 75,
     "metadata": {},
     "output_type": "execute_result"
    },
    {
     "data": {
      "image/png": "[encoded data removed]",
      "text/plain": [
       "<Figure size 641.375x500 with 1 Axes>"
      ]
     },
     "metadata": {},
     "output_type": "display_data"
    }
   ],
   "source": [
    "sns.set_style(\"whitegrid\") \n",
    "sns.relplot(moral_bert_RE_sorted, x=\"steps\", y = \"value\", hue=\"category\", kind=\"line\", \n",
    "           palette = \"pastel\")"
   ]
  },
  {
   "cell_type": "markdown",
   "id": "a045f51c",
   "metadata": {},
   "source": [
    "## Polarisation BERT"
   ]
  },
  {
   "cell_type": "markdown",
   "id": "0fc9479c",
   "metadata": {},
   "source": [
    "### Five Epochs:"
   ]
  },
  {
   "cell_type": "code",
   "execution_count": 76,
   "id": "fea19846",
   "metadata": {},
   "outputs": [],
   "source": [
    "# FROM FINAL COMM MORAL BERT\n",
    "training_loss = [0.493800, 0.576800, 0.504300, \n",
    "                0.528500, 0.434100, 0.403500, \n",
    "                0.388500, 0.274100, 0.214900, \n",
    "                0.421400, 0.132500, 0.127000, \n",
    "                0.088000, 0.131000, 0.054400,\n",
    "                0.003700, 0.072800, 0.001500]\n",
    "\n",
    "validation_loss = [0.579262, 0.552687, 0.568991,\n",
    "                  0.612369, 0.455225, 0.739063, \n",
    "                  0.663712, 0.751172, 1.077220, \n",
    "                  0.910365, 0.814422, 1.059403, \n",
    "                  1.078319, 1.213862, 1.175430, \n",
    "                  1.276599, 1.255320, 1.237287]\n",
    "\n",
    "steps = [20, 40, 60, 80, 100, 120, 140, 160, 180, \n",
    "        200, 220, 240, 260, 280, 300, 320, 340, \n",
    "        360]\n",
    "\n",
    "\n",
    "f1 = [0.333333, 0.333333, 0.333333, 0.333333, \n",
    "     0.399249, 0.352866, 0.705496, 0.555989,\n",
    "     0.499197, 0.437614, 0.589221, 0.470959, \n",
    "     0.573696, 0.484280, 0.543139, 0.515964, \n",
    "     0.543139, 0.555989]"
   ]
  },
  {
   "cell_type": "code",
   "execution_count": 77,
   "id": "3a38076d",
   "metadata": {},
   "outputs": [],
   "source": [
    "pola_bert = pd.DataFrame({'training_loss':training_loss, 'validation_loss':validation_loss,\n",
    "                          'steps':steps, 'f1':f1})"
   ]
  },
  {
   "cell_type": "code",
   "execution_count": 78,
   "id": "bcddf9f5",
   "metadata": {},
   "outputs": [],
   "source": [
    "pola_bert=pola_bert.melt(id_vars = \"steps\",\n",
    "                            var_name = \"category\", \n",
    "                            value_name = \"value\")"
   ]
  },
  {
   "cell_type": "code",
   "execution_count": 79,
   "id": "3a94cf95",
   "metadata": {},
   "outputs": [],
   "source": [
    "pola_bert = pola_bert.sort_values(by='steps')"
   ]
  },
  {
   "cell_type": "code",
   "execution_count": 80,
   "id": "4dfee90d",
   "metadata": {},
   "outputs": [
    {
     "data": {
      "text/plain": [
       "<seaborn.axisgrid.FacetGrid at 0x12a825b90>"
      ]
     },
     "execution_count": 80,
     "metadata": {},
     "output_type": "execute_result"
    },
    {
     "data": {
      "image/png": "[encoded data removed]",
      "text/plain": [
       "<Figure size 641.375x500 with 1 Axes>"
      ]
     },
     "metadata": {},
     "output_type": "display_data"
    }
   ],
   "source": [
    "sns.set_style(\"whitegrid\") \n",
    "sns.relplot(pola_bert, x=\"steps\", y = \"value\", hue=\"category\", kind=\"line\", \n",
    "           palette = \"pastel\")"
   ]
  },
  {
   "cell_type": "markdown",
   "id": "361bca7a",
   "metadata": {},
   "source": [
    "This graph shows, that the validation loss has an upward trend almost from the beginning, while training loss decreases. "
   ]
  }
 ],
 "metadata": {
  "kernelspec": {
   "display_name": "Python 3 (ipykernel)",
   "language": "python",
   "name": "python3"
  },
  "language_info": {
   "codemirror_mode": {
    "name": "ipython",
    "version": 3
   },
   "file_extension": ".py",
   "mimetype": "text/x-python",
   "name": "python",
   "nbconvert_exporter": "python",
   "pygments_lexer": "ipython3",
   "version": "3.11.1"
  }
 },
 "nbformat": 4,
 "nbformat_minor": 5
}
